{
 "cells": [
  {
   "cell_type": "markdown",
   "metadata": {},
   "source": [
    "# Parse ariel3_thunderstorm-noise\n",
    "\n",
    "This is a quick Python example of parsing a tiny part of the relatively complicated Ariel3 satellite thunderstorm-noise data.\n",
    "\n",
    "* Inspired by breqm76\n",
    "* File format documentation at\n",
    "https://docs.google.com/document/d/1GioN-8mch3GeruMrqG6qVLklQRDOh1TiARfYwI7BC4k/edit#heading=h.uydog7egy1sz\n",
    "* Parsing the files at https://spdf.sci.gsfc.nasa.gov/pub/data/ariel/ariel3/langmuir_probe/plasma-frequency_electron-temperature_thunderstorm-noise/DATA2_DR002129_DR002129_20080804_091423/\n"
   ]
  },
  {
   "cell_type": "code",
   "execution_count": 1,
   "metadata": {
    "collapsed": true
   },
   "outputs": [],
   "source": [
    "import numpy as np\n",
    "import matplotlib.pyplot as plt\n",
    "from scipy.signal import find_peaks_cwt"
   ]
  },
  {
   "cell_type": "code",
   "execution_count": 2,
   "metadata": {
    "collapsed": true
   },
   "outputs": [],
   "source": [
    "%matplotlib inline"
   ]
  },
  {
   "cell_type": "code",
   "execution_count": 3,
   "metadata": {
    "collapsed": true
   },
   "outputs": [],
   "source": [
    "def chunkstring(string, length):\n",
    "    \"Return the string, split up into fixed-width substrings of given length\"\n",
    "    return (string[0+i:length+i] for i in range(0, len(string), length))\n",
    "\n",
    "def groupOf10(data, offset):\n",
    "    \"print the data as 10 sets of three 5-character numbers\"    \n",
    "    segment = data[offset:offset+10*3*5]\n",
    "    print('\\n'.join(chunkstring(' '.join(chunkstring(segment[:30*5],5)), 18)))"
   ]
  },
  {
   "cell_type": "code",
   "execution_count": 4,
   "metadata": {
    "collapsed": false
   },
   "outputs": [],
   "source": [
    "# File is encoded as EBCDIC (codec cp500)\n",
    "with open('dr002129_f00001.phys.1', 'rt', encoding='cp500') as ariel3_thunderstorm_noise:\n",
    "    d2129 = ariel3_thunderstorm_noise.read()"
   ]
  },
  {
   "cell_type": "code",
   "execution_count": 5,
   "metadata": {
    "collapsed": false
   },
   "outputs": [
    {
     "name": "stdout",
     "output_type": "stream",
     "text": [
      " -6.1  -9.0 -14.3 \n",
      " -6.2  -9.1 -14.4 \n",
      " -6.5  -9.1 -14.4 \n",
      " -6.8  -9.2 -14.5 \n",
      " -7.0  -9.3 -14.6 \n",
      " -7.2  -9.4 -14.7 \n",
      " -7.4  -9.5 -14.8 \n",
      " -7.6  -9.7 -14.9 \n",
      " -7.8  -9.8 -15.0 \n",
      " -8.0  -9.9 -15.1\n"
     ]
    }
   ],
   "source": [
    "groupOf10(d2129, 0x11F02)"
   ]
  },
  {
   "cell_type": "code",
   "execution_count": 6,
   "metadata": {
    "collapsed": false
   },
   "outputs": [
    {
     "name": "stdout",
     "output_type": "stream",
     "text": [
      " -8.1 -10.0 -15.2 \n",
      " -8.2 -10.1 -15.3 \n",
      " -8.3 -10.2 -15.4 \n",
      " -8.4 -10.3 -15.5 \n",
      " -8.4 -10.4 -15.6 \n",
      " -8.5 -10.5 -15.7 \n",
      " -8.5 -10.6 -15.8 \n",
      " -8.6 -10.7 -15.9 \n",
      " -8.8 -10.8 -16.0 \n",
      " -9.0 -10.9 -16.1\n"
     ]
    }
   ],
   "source": [
    "groupOf10(d2129, 0x11FA6)"
   ]
  },
  {
   "cell_type": "markdown",
   "metadata": {},
   "source": [
    "# Find length of repeating records: peak autocorrelation"
   ]
  },
  {
   "cell_type": "code",
   "execution_count": 7,
   "metadata": {
    "collapsed": true
   },
   "outputs": [],
   "source": [
    "def findRecordLen(segment, maxLen=1000):\n",
    "    \"Find record length in given string, via autocorrelation\"\n",
    "\n",
    "    # Turn string into array of byte with zero mean\n",
    "    arr = np.array([float(ord(c)) for c in segment])\n",
    "    arrNorm = arr - np.mean(arr)\n",
    "\n",
    "    (lags, c, line, b) = plt.acorr(arrNorm, maxlags=maxLen)\n",
    "    \n",
    "    return c[maxLen+1:].argmax() + 1"
   ]
  },
  {
   "cell_type": "code",
   "execution_count": 8,
   "metadata": {
    "collapsed": true
   },
   "outputs": [],
   "source": [
    "segmentLen = 10000"
   ]
  },
  {
   "cell_type": "code",
   "execution_count": 9,
   "metadata": {
    "collapsed": true
   },
   "outputs": [],
   "source": [
    "data = d2129"
   ]
  },
  {
   "cell_type": "code",
   "execution_count": 10,
   "metadata": {
    "collapsed": true
   },
   "outputs": [],
   "source": [
    "fileLen = len(data)"
   ]
  },
  {
   "cell_type": "code",
   "execution_count": 11,
   "metadata": {
    "collapsed": false
   },
   "outputs": [
    {
     "name": "stdout",
     "output_type": "stream",
     "text": [
      "3270980\n"
     ]
    }
   ],
   "source": [
    "print(fileLen)"
   ]
  },
  {
   "cell_type": "markdown",
   "metadata": {},
   "source": [
    "## Comparing the file with itself shifted between -1000 and 1000 bytes, the autocorrelation shows that every 164, and especially every 328 bytes there is a strong similarity"
   ]
  },
  {
   "cell_type": "code",
   "execution_count": 12,
   "metadata": {
    "collapsed": false
   },
   "outputs": [
    {
     "data": {
      "text/plain": [
       "328"
      ]
     },
     "execution_count": 12,
     "metadata": {},
     "output_type": "execute_result"
    },
    {
     "data": {
      "image/png": "[encoded data removed]",
      "text/plain": [
       "<matplotlib.figure.Figure at 0x7f62acfb0710>"
      ]
     },
     "metadata": {},
     "output_type": "display_data"
    }
   ],
   "source": [
    "findRecordLen(data[:segmentLen])"
   ]
  },
  {
   "cell_type": "markdown",
   "metadata": {},
   "source": [
    "## We see the same record length looking at segments all the way thru the file, every 1/10th of the way."
   ]
  },
  {
   "cell_type": "code",
   "execution_count": 13,
   "metadata": {
    "collapsed": false,
    "scrolled": false
   },
   "outputs": [
    {
     "name": "stdout",
     "output_type": "stream",
     "text": [
      "327098 328\n",
      "654196 328\n",
      "981294 328\n",
      "1308392 328\n",
      "1635490 328\n",
      "1962588 328\n",
      "2289686 328\n",
      "2616784 328\n",
      "2943882 328\n"
     ]
    },
    {
     "data": {
      "image/png": "[encoded data removed]",
      "text/plain": [
       "<matplotlib.figure.Figure at 0x7f62acf94a58>"
      ]
     },
     "metadata": {},
     "output_type": "display_data"
    }
   ],
   "source": [
    "for offset in range(fileLen // 10, fileLen, fileLen // 10):\n",
    "    print(\"%d %d\" % (offset, findRecordLen(data[offset:offset+segmentLen])))"
   ]
  },
  {
   "cell_type": "markdown",
   "metadata": {},
   "source": [
    "## The file length is actually a perfect multiple of that smaller segment length"
   ]
  },
  {
   "cell_type": "code",
   "execution_count": 14,
   "metadata": {
    "collapsed": false
   },
   "outputs": [
    {
     "data": {
      "text/plain": [
       "9972.5"
      ]
     },
     "execution_count": 14,
     "metadata": {},
     "output_type": "execute_result"
    }
   ],
   "source": [
    "fileLen / 328"
   ]
  },
  {
   "cell_type": "code",
   "execution_count": 15,
   "metadata": {
    "collapsed": false
   },
   "outputs": [
    {
     "data": {
      "text/plain": [
       "19945.0"
      ]
     },
     "execution_count": 15,
     "metadata": {},
     "output_type": "execute_result"
    }
   ],
   "source": [
    "fileLen / 164"
   ]
  },
  {
   "cell_type": "code",
   "execution_count": 16,
   "metadata": {
    "collapsed": false
   },
   "outputs": [
    {
     "data": {
      "text/plain": [
       "0"
      ]
     },
     "execution_count": 16,
     "metadata": {},
     "output_type": "execute_result"
    }
   ],
   "source": [
    "fileLen % 164"
   ]
  },
  {
   "cell_type": "markdown",
   "metadata": {},
   "source": [
    "## There is more variation if we look at a segment 1/10 or 2/10 of the way thru the file"
   ]
  },
  {
   "cell_type": "code",
   "execution_count": 17,
   "metadata": {
    "collapsed": false
   },
   "outputs": [],
   "source": [
    "offset = fileLen // 10"
   ]
  },
  {
   "cell_type": "code",
   "execution_count": 18,
   "metadata": {
    "collapsed": false
   },
   "outputs": [
    {
     "data": {
      "text/plain": [
       "328"
      ]
     },
     "execution_count": 18,
     "metadata": {},
     "output_type": "execute_result"
    },
    {
     "data": {
      "image/png": "[encoded data removed]",
      "text/plain": [
       "<matplotlib.figure.Figure at 0x7f62ac912710>"
      ]
     },
     "metadata": {},
     "output_type": "display_data"
    }
   ],
   "source": [
    "findRecordLen(data[offset:offset+segmentLen])"
   ]
  },
  {
   "cell_type": "markdown",
   "metadata": {},
   "source": [
    "## But not later"
   ]
  },
  {
   "cell_type": "code",
   "execution_count": 19,
   "metadata": {
    "collapsed": true
   },
   "outputs": [],
   "source": [
    "i=4"
   ]
  },
  {
   "cell_type": "code",
   "execution_count": 20,
   "metadata": {
    "collapsed": false
   },
   "outputs": [
    {
     "data": {
      "text/plain": [
       "328"
      ]
     },
     "execution_count": 20,
     "metadata": {},
     "output_type": "execute_result"
    },
    {
     "data": {
      "image/png": "[encoded data removed]",
      "text/plain": [
       "<matplotlib.figure.Figure at 0x7f62aceff710>"
      ]
     },
     "metadata": {},
     "output_type": "display_data"
    }
   ],
   "source": [
    "findRecordLen(data[offset*i:offset*i+segmentLen])"
   ]
  },
  {
   "cell_type": "markdown",
   "metadata": {},
   "source": [
    "# Earlier looking and playing around "
   ]
  },
  {
   "cell_type": "markdown",
   "metadata": {},
   "source": [
    "Fields in each record of section 1, \"5 MHz or 15MHz data records\"\n",
    "\n",
    "F4.0, A2, 3F3.0, F5.2, F7.3, F8.3, F5.1, F4.0, F3.0, F5.2, F4.1, F5.2, 2F6.1, 2(F6.1, F4.1), F61, F5.2, 3F5.0, 3F6.2"
   ]
  },
  {
   "cell_type": "code",
   "execution_count": 21,
   "metadata": {
    "collapsed": false
   },
   "outputs": [
    {
     "data": {
      "text/plain": [
       "192"
      ]
     },
     "execution_count": 21,
     "metadata": {},
     "output_type": "execute_result"
    }
   ],
   "source": [
    "# estimate length of records in section 1\n",
    "4 + 2 + 9 + 5 + 7 + 8 + 5 + 4 + 3 + 5 + 4 + 5 + 12 + 2*(6+4) + 61 + 5 + 3*5 + 3*6"
   ]
  },
  {
   "cell_type": "code",
   "execution_count": 22,
   "metadata": {
    "collapsed": false
   },
   "outputs": [],
   "source": [
    "headerLength = 174 # empirically noticed repeat of pairs of records with this chunking\n",
    "header = d2129[:headerLength]\n",
    "\n",
    "offset = headerLength\n",
    "sOneLength = 164\n",
    "M = 424\n",
    "\n",
    "section1 = d2129[offset:offset+(M * sOneLength)]\n"
   ]
  },
  {
   "cell_type": "code",
   "execution_count": 23,
   "metadata": {
    "collapsed": false
   },
   "outputs": [
    {
     "data": {
      "text/plain": [
       "'\\x00s                 131    4                 MAD                     0                                                                                     0000000000\\x00s  1.  15'"
      ]
     },
     "execution_count": 23,
     "metadata": {},
     "output_type": "execute_result"
    }
   ],
   "source": [
    "header"
   ]
  },
  {
   "cell_type": "markdown",
   "metadata": {},
   "source": [
    "Print the first half or so of each record in what seem to be pretty regular repeats in section 1. There seems to be a smaller interval after the odd records than after the even ones"
   ]
  },
  {
   "cell_type": "code",
   "execution_count": 24,
   "metadata": {
    "collapsed": false
   },
   "outputs": [
    {
     "data": {
      "text/plain": [
       "['   0 . 3. 2.23.20 -1.357  69.581506.5  7.40.42.8010.9 3.672100.0  20.9 -15.7 0.0 -15.',\n",
       " '   1  2.26.70 -1.577  69.605506.6  7.40.51.8010.9 3.672100.0  20.9 -10.4 0.0 -10.4 0.',\n",
       " '   2 . 3. 2.51.10 -3.116  69.768507.5  7.41.55.5010.8 3.762100.0  20.9 -15.8 0.0 -15.',\n",
       " '   3  2.54.60 -3.336  69.792507.6  7.42. 4.6010.8 3.762100.0  20.9 -10.5 0.0 -10.5 0.',\n",
       " '   4 . 3. 3.19.10 -4.874  69.955508.6  7.43. 8.3010.6 3.792100.0  21.1 -15.9 0.0 -15.',\n",
       " '   5  3.22.60 -5.094  69.979508.7  7.43.17.4010.6 3.792100.0  21.1 -10.6 0.0 -10.6 0.',\n",
       " '   6 . 3. 3.47.00 -6.631  70.144509.7  7.44.21.5010.4 3.812100.0  21.1 -16.0 0.0 -16.',\n",
       " '   7  3.50.50 -6.851  70.167509.9  7.44.30.6010.3 3.812100.0  21.1 -10.7 0.0 -10.7 0.',\n",
       " '   8 . 3. 4.14.90 -8.388  70.334510.9  7.45.35.1010.1 3.762100.0  20.9 -16.1 0.0 -16.',\n",
       " '   9  4.18.40 -8.607  70.358511.1  7.45.44.3010.0 3.762100.0  20.9 -10.8 0.0 -10.8 0.',\n",
       " '  10 . 3. 4.42.80-10.144  70.528512.2  7.46.49.40 9.8 3.672100.0  20.9 -16.2 0.0 -16.',\n",
       " '  11  4.46.30-10.363  70.552512.4  7.46.58.70 9.7 3.672100.0  20.9 -11.0 0.0 -11.0 0.',\n",
       " '  12 . 3. 5.10.70-11.898  70.725513.6  7.48. 4.70 9.4 3.552100.0  20.9 -16.3 0.0 -16.',\n",
       " '  13  5.14.20-12.117  70.749513.8  7.48.14.10 9.4 3.552100.0  20.9 -11.1 0.0 -11.1 0.',\n",
       " '  14 . 3. 5.38.70-13.651  70.926515.0  7.49.20.80 9.2 3.652100.0  20.6 -16.4 0.0 -16.',\n",
       " '  15  5.42.20-13.871  70.951515.2  7.49.30.40 9.1 3.652100.0  20.6 -11.1 0.0 -11.1 0.',\n",
       " '  16 . 3. 6. 6.60-15.403  71.131516.5  7.50.38.00 8.9 3.612100.0  20.9 -16.5 0.0 -16.',\n",
       " '  17  6.10.10-15.622  71.156516.7  7.50.47.60 8.9 3.612100.0  20.9 -11.2 0.0 -11.2 0.',\n",
       " '  18 . 3. 6.34.50-17.154  71.341518.1  7.51.56.40 8.6 3.552100.0  20.9 -16.6 0.0 -16.',\n",
       " '  19  6.38.00-17.373  71.368518.3  7.52. 6.30 8.6 3.552100.0  20.9 -11.3 0.0 -11.3 0.',\n",
       " '  20 . 3. 7. 2.40-18.903  71.558519.7  7.53.16.30 8.4 3.452100.0  20.9 -16.7 0.0 -16.',\n",
       " '  21  7. 5.90-19.121  71.585520.0  7.53.26.40 8.4 3.452100.0  20.9 -11.4 0.0 -11.4 0.',\n",
       " '  22 . 3. 7.30.30-20.650  71.781521.4  7.54.37.90 8.2 3.272100.0  20.9 -16.8 0.0 -16.',\n",
       " '  23  7.33.80-20.868  71.809521.7  7.54.48.10 8.2 3.272100.0  20.9 -11.5 0.0 -11.5 0.',\n",
       " '  24 . 3. 7.58.30-22.395  72.012523.2  7.56. 1.10 8.0 3.192100.0  20.9 -16.8 0.0 -16.',\n",
       " '  25  8. 1.80-22.613  72.041523.4  7.56.11.50 8.0 3.192100.0  20.9 -11.6 0.0 -11.6 0.',\n",
       " '  26 . 3. 8.26.20-24.138  72.251525.0  7.57.26.50 7.8 3.252100.0  20.9  19.6 4.5  18.',\n",
       " '  27  8.29.70-24.356  72.282525.2  7.57.37.20 7.8 3.252100.0  20.9  21.7 4.6  20.9 4.',\n",
       " '  28 . 3. 8.54.10-25.879  72.501526.8  7.58.54.30 7.7 3.222100.0  20.9 -10.0 0.0 -17.',\n",
       " '  29  8.57.60-26.097  72.532527.1  7.59. 5.40 7.7 3.222100.0  20.9  -6.0 0.1  -7.9 0.',\n",
       " '  30 . 3. 9.22.00-27.619  72.761528.7  8. 0.24.60 7.5 3.192100.0  21.1 -17.0 0.0 -17.',\n",
       " '  31  9.25.50-27.836  72.793529.0  8. 0.35.90 7.5 3.192100.0  21.1 -11.8 0.0 -11.8 0.',\n",
       " '  32 . 3. 9.49.90-29.355  73.033530.7  8. 1.57.80 7.4 3.182100.0  20.9 -17.1 0.0 -17.',\n",
       " '  33  9.53.40-29.572  73.067530.9  8. 2. 9.50 7.4 3.182100.0  20.9 -11.8 0.0 -11.8 0.',\n",
       " '  34 . 3.10.17.90-31.090  73.318532.7  8. 3.34.10 7.3 3.052100.0  20.9 -17.1 0.0 -17.',\n",
       " '  35 10.21.40-31.307  73.354532.9  8. 3.46.20 7.3 3.052100.0  20.9 -11.9 0.0 -11.9 0.',\n",
       " '  36 . 3.10.45.80-32.821  73.617534.7  8. 5.13.90 7.2 2.992100.0  20.9 -17.2 0.0 -17.',\n",
       " '  37 10.49.30-33.037  73.655535.0  8. 5.26.40 7.2 2.992100.0  20.9 -11.9 0.0 -11.9 0.',\n",
       " '  38 . 3.11.13.70-34.550  73.933536.8  8. 6.57.60 7.1 3.052100.0  20.9 -17.2 0.0 -17.',\n",
       " '  39 11.17.20-34.766  73.973537.0  8. 7.10.70 7.1 3.052100.0  20.9 -12.0 0.0 -12.0 0.',\n",
       " '  40 . 3.11.41.60-36.276  74.267538.9  8. 8.45.70 7.0 2.992100.0  20.9 -17.2 0.0 -17.',\n",
       " '  41 11.45.10-36.492  74.309539.1  8. 8.59.30 7.0 2.992100.0  20.9 -12.0 0.0 -12.0 0.',\n",
       " '  42 . 3.12. 9.50-37.998  74.621541.0  8.10.38.60 6.9 2.932100.0  20.9 -17.3 0.0 -17.',\n",
       " '  43 12.13.00-38.213  74.666541.2  8.10.52.80 6.9 2.932100.0  20.9 -12.1 0.0 -12.1 0.',\n",
       " '  44 . 3.12.37.50-39.717  74.997543.1  8.12.36.70 6.9 2.912100.0  21.7 -17.3 0.0 -17.',\n",
       " '  45 12.41.00-39.932  75.044543.4  8.12.51.60 6.9 2.912100.0  21.7 -12.1 0.0 -12.1 0.',\n",
       " '  46 . 3.13. 5.40-41.433  75.398545.3  8.14.40.80 6.8 2.812100.0  20.9 -17.3 0.0 -17.',\n",
       " '  47 13. 8.90-41.647  75.449545.6  8.14.56.50 6.8 2.812100.0  20.9 -12.1 0.0 -12.1 0.',\n",
       " '  48 . 3.13.33.30-43.144  75.826547.5  8.16.51.60 6.7 2.752100.0  21.7 -17.4 0.0 -17.',\n",
       " '  49 13.36.80-43.358  75.880547.8  8.17. 8.10 6.7 2.752100.0  21.7 -12.1 0.0 -12.1 0.',\n",
       " '  50 . 3.14. 1.20-44.851  76.286549.7  8.19. 9.80 6.7 2.882100.0  21.5 -17.4 0.0 -17.',\n",
       " '  51 14. 4.70-45.065  76.344549.9  8.19.27.30 6.7 2.882100.0  21.5 -12.1 0.0 -12.1 0.',\n",
       " '  52 . 3.14.29.10-46.554  76.780551.9  8.21.36.40 6.6 2.882100.0  20.9 -17.4 0.0 -17.',\n",
       " '  53 14.32.60-46.767  76.843552.2  8.21.55.00 6.6 2.882100.0  20.9 -12.2 0.0 -12.2 0.',\n",
       " '  54 . 3.14.57.10-48.252  77.313554.1  8.24.12.20 6.6 2.882100.0  20.9 -17.4 0.0 -17.',\n",
       " '  55 15. 0.60-48.465  77.381554.4  8.24.31.90 6.6 2.882100.0  20.9 -12.2 0.0 -12.2 0.',\n",
       " '  56 . 3.15.25.00-49.945  77.890556.3  8.26.58.60 6.5 3.052100.0  21.1 -17.4 0.0 -17.',\n",
       " '  57 15.28.50-50.156  77.964556.6  8.27.19.80 6.5 3.052100.0  21.1 -12.1 0.0 -12.1 0.',\n",
       " '  58 . 3.15.52.90-51.631  78.517558.5  8.29.57.10 6.5 3.022100.0  21.1  22.7 4.6  22.',\n",
       " '  59 15.56.40-51.842  78.597558.8  8.30.19.70 6.5 3.022100.0  21.1  21.2 4.7  20.4 4.',\n",
       " '  60 . 3.16.20.80-53.312  79.202560.7  8.33. 9.20 6.4 3.112100.0  20.9  -9.7 0.1 -17.',\n",
       " '  61 16.24.30-53.522  79.289561.0  8.33.33.60 6.4 3.112100.0  20.9  -6.7 0.1  -7.4 0.',\n",
       " '  62 . 3.16.48.70-54.985  79.950562.9  8.36.36.80 6.4 3.602100.0  21.1 -17.3 0.0 -17.',\n",
       " '  63 16.52.20-55.193  80.046563.2  8.37. 3.20 6.4 3.602100.0  21.1 -12.1 0.0 -12.1 0.',\n",
       " '  64 . 3.17.16.70-56.649  80.773565.1  8.40.22.20 6.3 3.022100.0  20.9 -17.4 0.0 -17.',\n",
       " '  65 17.20.20-56.857  80.878565.4  8.40.50.90 6.3 3.022100.0  20.9 -12.1 0.0 -12.1 0.',\n",
       " '  66 . 3.17.44.60-58.305  81.682567.3  8.44.28.30 6.3 3.672100.0  21.7 -17.3 0.0 -17.',\n",
       " '  67 17.48.10-58.511  81.798567.6  8.44.59.70 6.3 3.672100.0  21.7 -12.0 0.0 -12.0 0.',\n",
       " '  68 . 3.18.12.50-59.950  82.691569.5  8.48.58.30 6.2 3.482100.0  20.9 -17.3 0.0 -17.',\n",
       " '  69 18.16.00-60.156  82.820569.8  8.49.32.80 6.2 3.482100.0  20.9 -12.0 0.0 -12.0 0.',\n",
       " '  70 . 3.18.40.40-61.583  83.816571.6  8.53.56.20 6.1 3.192100.0  21.7 -17.3 0.0 -17.',\n",
       " '  71 18.43.90-61.787  83.960571.9  8.54.34.30 6.1 3.192100.0  21.7 -12.1 0.0 -12.1 0.',\n",
       " '  72 . 3.19. 8.30-63.203  85.078573.7  8.59.27.00 6.1 3.552100.0  21.7 -17.2 0.0 -17.',\n",
       " '  73 19.11.80-63.405  85.240574.0  9. 0. 9.30 6.1 3.552100.0  21.7 -12.0 0.0 -12.0 0.',\n",
       " '  74 . 3.19.36.30-64.806  86.501575.8  9. 5.36.60 6.0 3.002100.0  21.7 -17.3 0.0 -17.',\n",
       " '  75 19.39.80-65.006  86.684576.1  9. 6.24.00 6.0 3.002100.0  21.7 -12.0 0.0 -12.0 0.',\n",
       " '  76 . 3.20. 4.20-66.391  88.117577.9  9.12.32.40 6.0 2.132100.0  21.7 -17.3 0.0 -17.',\n",
       " '  77 20. 7.70-66.588  88.325578.1  9.13.25.80 6.0 2.132100.0  21.7 -12.1 0.0 -12.1 0.',\n",
       " '  78 . 3.20.32.10-67.952  89.965579.9  9.20.23.70 5.9 2.372100.0  21.7 -10.4 0.0 -10.',\n",
       " '  79 20.35.60-68.146  90.203580.2  9.21.24.30 5.9 2.372100.0  21.7 -12.1 0.1 -12.1 0.',\n",
       " '  80 . 3.21. 0.00-69.485  92.093581.9  9.29.22.20 5.9 3.142100.0  21.7 -17.1 0.0 -17.',\n",
       " '  81 21. 3.50-69.676  92.367582.2  9.30.31.60 5.9 3.142100.0  21.7 -11.9 0.0 -11.9 0.',\n",
       " '  82 . 3.21.27.90-70.984  94.560583.9  9.39.42.40 5.8 3.402100.0  20.9 -17.1 0.0 -17.',\n",
       " '  83 21.31.40-71.170  94.879584.1  9.41. 2.50 5.8 3.402100.0  20.9 -11.8 0.0 -11.8 0.',\n",
       " '  84 . 3.21.55.90-72.440  97.445585.8  9.51.42.70 5.8 3.112100.0  20.9 -17.1 0.0 -17.',\n",
       " '  85 21.59.40-72.621  97.819586.0  9.53.15.80 5.8 3.112100.0  20.9 -11.8 0.0 -11.8 0.',\n",
       " '  86 . 3.22.23.80-73.843 100.843587.6 10. 5.46.00 5.8 3.242100.0  20.9 -17.0 0.0 -17.',\n",
       " '  87 22.27.30-74.016 101.283587.9 10. 7.35.20 5.8 3.242100.0  20.9 -11.8 0.0 -11.8 0.',\n",
       " '  88 . 3.22.51.70-75.177 104.870589.5 10.22.20.40 5.8 3.272100.0  20.9 -16.9 0.0 -16.',\n",
       " '  89 22.55.20-75.341 105.392589.7 10.24.29.30 5.8 3.272100.0  20.9 -11.7 0.0 -11.7 0.',\n",
       " '  90 . 3.23.19.60-76.421 109.663591.2 10.41.58.80 5.8 4.692100.0  20.9  19.7 4.5  18.',\n",
       " '  91 23.23.10-76.574 110.286591.4 10.44.31.70 5.8 4.692100.0  20.9  22.0 4.6  21.3 4.',\n",
       " '  92 . 3.23.47.50-77.550 115.374592.9 11. 5.17.30 5.8 4.592100.0  21.7  -9.7 0.0 -16.',\n",
       " '  93 23.51.00-77.688 116.116593.2 11. 8.18.80 5.8 4.592100.0  21.7  -5.9 0.1  -7.4 0.',\n",
       " '  94 . 3.24.15.50-78.531 122.137594.6 11.32.48.40 5.8 4.252100.0  21.7 -16.7 0.0 -16.',\n",
       " '  95 24.19.00-78.649 123.014594.8 11.36.22.40 5.8 4.252100.0  21.7 -11.3 0.0 -11.3 0.',\n",
       " '  96 . 3.24.43.40-79.323 130.023596.2 12. 4.49.00 5.9 4.012100.0  21.7 -16.6 0.0 -16.',\n",
       " '  97 24.46.90-79.417 131.042596.4 12. 8.57.10 5.9 4.012100.0  21.7 -11.3 0.0 -11.3 0.',\n",
       " '  98 . 3.25.11.30-79.882 138.959597.8 12.41. 1.40 5.9 3.532100.0  21.7 -16.6 0.0 -16.',\n",
       " '  99 25.14.80-79.945 140.106598.0 12.45.40.20 5.9 3.532100.0  21.7 -11.3 0.0 -11.3 0.',\n",
       " ' 100 . 3.25.39.20-80.171 148.657599.3 13.20.16.90 6.0 3.252100.0  21.7 -16.5 0.0 -16.',\n",
       " ' 101 25.42.70-80.199 149.889599.5 13.25.16.10 6.0 3.252100.0  21.7 -11.3 0.0 -11.3 0.',\n",
       " ' 102 . 3.26. 7.10-80.164 158.625600.7 14. 0.37.20 6.1 3.532100.0  21.7 -16.4 0.0 -16.',\n",
       " ' 103 26.10.60-80.154 159.875600.9 14. 5.40.70 6.1 3.532100.0  21.7 -11.2 0.0 -11.2 0.',\n",
       " ' 104 . 3.26.35.10-79.865 168.289602.1 14.39.44.30 6.1 3.482100.0  21.7 -16.3 0.0 -16.',\n",
       " ' 105 26.38.60-79.819 169.484602.3 14.44.34.60 6.1 3.482100.0  21.7 -11.1 0.0 -11.1 0.',\n",
       " ' 106 . 3.27. 3.00-79.297 177.166603.4 15.15.42.70 6.2 3.272100.0  21.7 -16.3 0.0 -16.',\n",
       " ' 107 27. 6.50-79.218 178.249603.6 15.20. 6.30 6.2 3.272100.0  21.7 -11.0 0.0 -11.0 0.',\n",
       " ' 108 . 3.27.30.90-78.500-175.013604.7 15.47.27.70 6.2 3.452100.0  21.7 -16.2 0.4 -16.',\n",
       " ' 109 27.34.40-78.394-174.068604.8 15.51.18.10 6.2 3.452100.0  21.7  -7.6 0.5 -10.9 0.',\n",
       " ' 110 . 3.27.58.80-77.517-168.311605.9 16.14.44.10 6.2 3.402100.0  21.7 -16.1 1.2 -16.',\n",
       " ' 111 28. 2.30-77.389-167.506606.0 16.18. 0.80 6.2 3.402100.0  21.7 -10.8 0.5 -10.8 0.',\n",
       " ' 112 . 3.28.26.70-76.388-162.653607.0 16.37.49.90 6.3 2.412100.0  21.7 -13.4 1.0 -16.',\n",
       " ' 113 28.30.20-76.243-161.976607.1 16.40.36.00 6.3 2.412100.0  21.7 -10.9 1.0  -9.2 0.',\n",
       " ' 114 . 3.28.54.70-75.147-157.904608.1 16.57.17.80 6.3 2.162100.0  21.7 -10.6 1.3 -15.',\n",
       " ' 115 28.58.20-74.989-157.335608.2 16.59.37.60 6.3 2.162100.0  21.7 -10.8 1.0 -10.5 0.',\n",
       " ' 116 . 3.29.22.60-73.820-153.913609.1 17.13.43.50 6.3 2.332100.0  21.7 -13.2 1.1 -15.',\n",
       " ' 117 29.26.10-73.652-153.435609.2 17.15.41.60 6.3 2.332100.0  21.7  -7.4 1.3  -9.0 0.',\n",
       " ' 118 . 3.29.50.50-72.427-150.545610.0 17.27.39.60 6.3 1.912100.0  21.7   4.3 3.1 -15.',\n",
       " ' 119 29.54.00-72.251-150.142610.1 17.29.20.00 6.3 1.912100.0  21.7  -4.4 1.3  -6.7 0.',\n",
       " ' 120 . 3.30.18.40-70.981-147.685610.9 17.39.34.10 6.3 1.942100.0  21.7   6.7 4.2 -15.',\n",
       " ' 121 30.21.90-70.798-147.341611.0 17.41. 0.00 6.3 1.942100.0  21.7 -10.5 0.6 -10.5 0.',\n",
       " ' 122 . 3.30.46.30-69.494-145.236611.7 17.49.49.70 6.3 2.702100.0  21.7  24.6 4.6  23.',\n",
       " ' 123 30.49.80-69.307-144.941611.8 17.51. 3.90 6.3 2.702100.0  21.7  23.1 4.6  22.4 4.',\n",
       " ' 124 . 3.31.14.30-67.975-143.126612.4 17.58.44.10 6.3 2.722100.0  21.7  -3.1 0.5 -15.',\n",
       " ' 125 31.17.80-67.784-142.871612.5 17.59.48.60 6.3 2.722100.0  21.7  -4.0 0.1  -5.5 0.',\n",
       " ' 126 . 3.31.42.20-66.429-141.292613.1 18. 6.32.10 6.2 1.922100.0  21.5  -8.7 0.0  -8.',\n",
       " ' 127 31.45.70-66.235-141.071613.2 18. 7.28.70 6.2 1.922100.0  21.5 -10.2 0.0 -10.2 0.',\n",
       " ' 128 . 3.32.10.10-64.862-139.687613.7 18.13.25.20 6.2 1.732100.0  21.7  -8.7 0.0  -8.',\n",
       " ' 129 32.13.60-64.666-139.493613.8 18.14.15.30 6.2 1.732100.0  21.7 -10.1 0.0 -10.1 0.',\n",
       " ' 130 . 3.32.38.00-63.277-138.273614.2 18.19.32.50 6.1 2.002100.0  21.7 -15.1 0.0 -15.',\n",
       " ' 131 32.41.50-63.079-138.102614.3 18.20.17.10 6.1 2.002100.0  21.7 -10.0 0.0 -10.0 0.',\n",
       " ' 132 . 3.33. 5.90-61.677-137.020614.7 18.25. 1.10 6.1 2.052100.0  21.7 -15.0 0.0 -15.',\n",
       " ' 133 33. 9.40-61.477-136.868614.8 18.25.41.10 6.1 2.052100.0  21.7  -9.9 0.0  -9.9 0.',\n",
       " ' 134 . 3.33.33.90-60.065-135.903615.1 18.29.57.20 6.0 2.002100.0  21.7 -15.0 0.0 -15.',\n",
       " ' 135 33.37.40-59.863-135.767615.2 18.30.33.30 6.0 2.002100.0  21.7  -9.8 0.0  -9.8 0.',\n",
       " ' 136 . 3.34. 1.80-58.443-134.901615.5 18.34.25.60 6.0 2.132100.0  21.7 -14.9 0.0 -14.',\n",
       " ' 137 34. 5.30-58.240-134.779615.5 18.34.58.40 5.9 2.132100.0  21.7  -9.7 0.0  -9.7 0.',\n",
       " ' 138 . 3.34.29.70-56.811-133.997615.8 18.38.30.30 5.9 2.092100.0  21.7 -14.8 0.0 -14.',\n",
       " ' 139 34.33.20-56.606-133.887615.8 18.39. 0.30 5.9 2.092100.0  21.7  -9.6 0.0  -9.6 0.',\n",
       " ' 140 . 3.34.57.60-55.171-133.180616.0 18.42.14.40 5.8 2.092100.0  21.7 -14.7 0.0 -14.',\n",
       " ' 141 35. 1.10-54.966-133.080616.0 18.42.41.90 5.8 2.092100.0  21.7  -9.5 0.0  -9.5 0.',\n",
       " ' 142 . 3.35.25.50-53.525-132.436616.2 18.45.40.80 5.7 2.132100.0  21.7 -14.6 0.0 -14.',\n",
       " ' 143 35.29.00-53.319-132.345616.2 18.46. 6.10 5.7 2.132100.0  21.7  -9.5 0.0  -9.5 0.',\n",
       " ' 144 . 3.35.53.50-51.873-131.757616.3 18.48.51.80 5.7 2.092100.0  21.7 -14.6 0.0 -14.',\n",
       " ' 145 35.57.00-51.667-131.674616.3 18.49.15.30 5.7 2.092100.0  21.7  -9.4 0.0  -9.4 0.',\n",
       " ' 146 . 3.36.21.40-50.216-131.134616.4 18.51.49.20 5.6 2.052100.0  21.7 -14.5 0.0 -14.',\n",
       " ' 147 36.24.90-50.008-131.058616.4 18.52.11.00 5.6 2.052100.0  21.7  -9.3 0.0  -9.3 0.',\n",
       " ' 148 . 3.36.49.30-48.554-130.561616.4 18.54.34.70 5.6 2.052100.0  21.7 -14.4 0.0 -14.',\n",
       " ' 149 36.52.80-48.346-130.490616.4 18.54.55.10 5.6 2.052100.0  21.7  -9.3 0.1  -9.3 0.',\n",
       " ' 150 . 3.37.17.20-46.887-130.032616.3 18.57. 9.60 5.5 2.152100.0  21.7 -14.4 0.0 -14.',\n",
       " ' 151 37.20.70-46.678-129.967616.3 18.57.28.70 5.5 2.152100.0  21.7  -3.8 0.0  -9.2 0.',\n",
       " ' 152 . 3.37.45.10-45.216-129.542616.2 18.59.35.10 5.5 2.172100.0  21.7 -14.3 0.0 -14.',\n",
       " ' 153 37.48.60-45.008-129.482616.2 18.59.53.10 5.5 2.172100.0  21.7  -9.2 0.2  -9.2 0.',\n",
       " ' 154 . 3.38.13.10-43.543-129.086616.1 19. 1.52.40 5.5 2.152100.0  21.7  22.3 4.6  21.',\n",
       " ' 155 38.16.60-43.334-129.030616.0 19. 2. 9.40 5.5 2.152100.0  21.7  24.3 4.6  23.6 4.',\n",
       " ' 156 . 3.38.41.00-41.866-128.661615.9 19. 4. 2.40 5.6 2.172100.0  21.7  -5.8 0.3  -6.',\n",
       " ' 157 38.44.50-41.656-128.609615.8 19. 4.18.40 5.6 2.172100.0  21.7  -2.9 0.3  -4.4 0.',\n",
       " ' 158 . 3.39. 8.90-40.186-128.264615.6 19. 6. 5.60 5.7 2.222100.0  21.7 -14.3 0.0 -14.',\n",
       " ' 159 39.12.40-39.976-128.215615.6 19. 6.20.90 5.7 2.222100.0  21.7  -9.1 0.1  -9.1 0.',\n",
       " ' 160 . 3.39.36.80-38.503-127.891615.3 19. 8. 3.00 5.8 2.222100.0  21.7 -14.2 0.1 -14.',\n",
       " ' 161 39.40.30-38.293-127.845615.3 19. 8.17.50 5.8 2.222100.0  21.7  -7.5 0.5  -9.1 0.',\n",
       " ' 162 . 3.40. 4.70-36.819-127.541615.0 19. 9.54.90 6.0 2.262100.0  21.7 -14.2 0.1 -14.',\n",
       " ' 163 40. 8.20-36.608-127.498614.9 19.10. 8.80 6.0 2.262100.0  21.7  -9.1 0.2  -9.1 0.',\n",
       " ' 164 . 3.40.32.70-35.131-127.210614.6 19.11.42.20 6.3 2.262100.0  22.0 -14.2 0.0 -14.',\n",
       " ' 165 40.36.20-34.920-127.170614.6 19.11.55.40 6.3 2.262100.0  22.0  -9.1 0.3  -9.1 0.',\n",
       " ' 166 . 3.41. 0.60-33.442-126.898614.2 19.13.25.00 6.7 2.262100.0  21.7 -14.3 0.0 -14.',\n",
       " ' 167 41. 4.10-33.231-126.860614.1 19.13.37.80 6.7 2.262100.0  21.7  -9.1 0.3  -9.1 0.',\n",
       " ' 168 . 3.41.28.50-31.750-126.602613.7 19.15. 3.90 7.1 2.292100.0  22.2 -14.3 0.0 -14.',\n",
       " ' 169 41.32.00-31.539-126.566613.7 19.15.16.20 7.2 2.292100.0  22.2  -9.1 0.2  -9.1 0.',\n",
       " ' 170 . 3.41.56.40-30.058-126.321613.2 19.16.39.40 7.7 2.332100.0  21.7 -14.3 0.0 -14.',\n",
       " ' 171 41.59.90-29.846-126.286613.2 19.16.51.20 7.7 2.332100.0  21.7  -0.1 1.0  -7.4 0.',\n",
       " ' 172 . 3.42.24.30-28.362-126.053612.7 19.18.11.60 8.3 2.372100.0  22.0 -14.3 0.0 -14.',\n",
       " ' 173 42.27.80-28.150-126.020612.6 19.18.23.00 8.4 2.372100.0  22.0  -3.8 0.2  -9.2 0.',\n",
       " ' 174 . 3.42.52.30-26.666-125.797612.1 19.19.40.90 9.1 2.522100.0  21.7 -14.4 0.0 -14.',\n",
       " ' 175 42.55.80-26.454-125.766612.1 19.19.52.00 9.2 2.522100.0  21.7  -9.2 0.0  -9.2 0.',\n",
       " ' 176 . 3.43.20.20-24.968-125.552611.5 19.21. 7.70 9.9 2.722100.0  21.7 -14.4 0.0 -14.',\n",
       " ' 177 43.23.70-24.756-125.522611.5 19.21.18.5010.0 2.722100.0  21.7  -9.2 0.0  -9.2 0.',\n",
       " ' 178 . 3.43.48.10-23.268-125.317610.9 19.22.32.1010.7 2.812100.0  21.5 -14.5 0.0 -14.',\n",
       " ' 179 43.51.60-23.056-125.287610.8 19.22.42.6010.8 2.812100.0  21.5  -9.3 0.0  -9.3 0.',\n",
       " ' 180 . 3.44.16.00-21.567-125.090610.2 19.23.54.5011.5 3.082100.0  21.7 -14.5 0.0 -14.',\n",
       " ' 181 44.19.50-21.355-125.062610.2 19.24. 4.7011.6 3.082100.0  21.7  -9.3 0.0  -9.3 0.',\n",
       " ' 182 . 3.44.43.90-19.866-124.871609.6 19.25.14.9012.2 3.432100.0  21.7 -14.6 0.0 -14.',\n",
       " ' 183 44.47.40-19.653-124.844609.5 19.25.24.9012.3 3.432100.0  21.7  -9.3 0.0  -9.3 0.',\n",
       " ' 184 . 3.45.11.90-18.162-124.659608.8 19.26.33.7012.7 3.652100.0  21.7 -14.6 0.0 -14.',\n",
       " ' 185 45.15.40-17.949-124.633608.8 19.26.43.4012.7 3.652100.0  21.7  -9.3 0.0  -9.3 0.',\n",
       " ' 186 . 3.45.39.80-16.457-124.454608.1 19.27.50.9012.9 4.132100.0  21.7  27.1 4.6  26.',\n",
       " ' 187 45.43.30-16.244-124.428608.0 19.28. 0.5012.9 4.132100.0  21.7  24.2 4.7  23.4 4.',\n",
       " ' 188 . 3.46. 7.70-14.752-124.254607.4 19.29. 6.7012.8 4.692100.0  21.7  -7.7 0.0 -14.',\n",
       " ' 189 46.11.20-14.538-124.230607.3 19.29.16.1012.7 4.692100.0  21.7  -3.9 0.1  -4.6 0.',\n",
       " ' 190 . 3.46.35.60-13.046-124.059606.6 19.30.21.4012.3 5.192100.0  21.7 -14.7 0.0 -14.',\n",
       " ' 191 46.39.10-12.832-124.035606.5 19.30.30.7012.3 5.192100.0  21.7  -9.2 0.0  -9.2 0.',\n",
       " ' 192 . 3.47. 3.50-11.338-123.869605.8 19.31.35.1011.7 5.522100.0  22.0 -14.8 0.0 -14.',\n",
       " ' 193 47. 7.00-11.125-123.845605.7 19.31.44.3011.6 5.522100.0  22.0  -9.2 0.0  -9.2 0.',\n",
       " ' 194 . 3.47.31.50 -9.630-123.681605.0 19.32.48.1011.0 5.462100.0  21.7 -14.9 0.0 -14.',\n",
       " ' 195 47.35.00 -9.417-123.657604.9 19.32.57.2010.9 5.462100.0  21.7  -9.3 0.0  -9.3 0.',\n",
       " ' 196 . 3.47.59.40 -7.921-123.496604.1 19.34. 0.3010.3 5.462100.0  21.7 -15.0 0.0 -15.',\n",
       " ' 197 48. 2.90 -7.707-123.473604.0 19.34. 9.3010.3 5.462100.0  21.7  -9.4 0.0  -9.4 0.',\n",
       " ' 198 . 3.48.27.30 -6.211-123.314603.3 19.35.11.8010.0 5.462100.0  21.7 -15.1 0.0 -15.',\n",
       " ' 199 48.30.80 -5.997-123.292603.2 19.35.20.80 9.9 5.462100.0  21.7  -9.5 0.0  -9.5 0.',\n",
       " ' 200 . 3.48.55.20 -4.501-123.134602.4 19.36.23.00 9.8 5.642100.0  21.7 -15.2 0.0 -15.',\n",
       " ' 201 48.58.70 -4.287-123.112602.3 19.36.31.90 9.8 5.642100.0  21.7  -9.6 0.0  -9.6 0.',\n",
       " ' 202 . 3.49.23.10 -2.789-122.956601.5 19.37.33.80 9.9 5.812100.0  21.7 -15.3 0.0 -15.',\n",
       " ' 203 49.26.60 -2.575-122.933601.4 19.37.42.6010.0 5.812100.0  21.7  -9.6 0.0  -9.6 0.',\n",
       " ' 204 . 3.49.51.10 -1.078-122.778600.7 19.38.44.4010.2 6.052100.0  21.7 -15.3 0.1 -15.',\n",
       " ' 205 49.54.60 -0.864-122.755600.5 19.38.53.2010.2 6.052100.0  21.7  -9.6 0.0  -9.6 0.',\n",
       " ' 206 . 3.50.19.00  0.635-122.600599.8 19.39.55.1010.5 6.592100.0  21.7 -15.4 0.0 -15.',\n",
       " ' 207 50.22.50  0.849-122.577599.6 19.40. 3.9010.5 6.592100.0  21.7  -9.5 0.0  -9.5 0.',\n",
       " ' 208 . 3.50.46.90  2.347-122.422598.8 19.41. 5.7010.7 6.662100.0  21.5 -15.5 0.0 -15.',\n",
       " ' 209 50.50.40  2.561-122.399598.7 19.41.14.5010.8 6.662100.0  21.5  -9.6 0.0  -9.6 0.',\n",
       " ' 210 . 3.51.14.80  4.060-122.243597.9 19.42.16.5010.9 6.542100.0  21.7 -15.6 0.0 -15.',\n",
       " ' 211 51.18.30  4.274-122.221597.8 19.42.25.4010.9 6.542100.0  21.7  -9.7 0.0  -9.7 0.',\n",
       " ' 212 . 3.51.42.70  5.774-122.062597.0 19.43.27.8011.0 6.132100.0  21.7 -15.7 0.1 -15.',\n",
       " ' 213 51.46.20  5.988-122.040596.9 19.43.36.7011.0 6.132100.0  21.7 -10.0 0.0 -10.0 0.',\n",
       " ' 214 . 3.52.10.70  7.487-121.881596.1 19.44.39.3011.0 5.782100.0  21.7 -15.9 0.0 -15.',\n",
       " ' 215 52.14.20  7.701-121.858595.9 19.44.48.3011.0 5.782100.0  21.7 -10.2 0.0 -10.2 0.',\n",
       " ' 216 . 3.52.38.60  9.201-121.696595.1 19.45.51.5011.0 5.552100.0  22.0 -16.0 0.0 -16.',\n",
       " ' 217 52.42.10  9.415-121.673595.0 19.46. 0.5011.0 5.552100.0  22.0 -10.4 0.0 -10.4 0.',\n",
       " ' 218 . 3.53. 6.50 10.915-121.508594.2 19.47. 4.5010.9 5.192100.0  21.7  20.5 4.5  19.',\n",
       " ' 219 53.10.00 11.129-121.485594.0 19.47.13.7010.9 5.192100.0  21.7  22.8 4.7  21.9 4.',\n",
       " ' 220 . 3.53.34.40 12.628-121.317593.2 19.48.18.3010.8 5.192100.0  21.7  -9.2 0.0 -16.',\n",
       " ' 221 53.37.90 12.842-121.293593.1 19.48.27.6010.7 5.192100.0  21.7  -5.3 0.1  -6.0 0.',\n",
       " ' 222 . 3.54. 2.30 14.342-121.122592.2 19.49.33.1010.6 5.052100.0  21.7 -16.3 0.0 -16.',\n",
       " ' 223 54. 5.80 14.556-121.097592.1 19.49.42.5010.5 5.052100.0  21.7 -10.8 0.0 -10.8 0.',\n",
       " ' 224 . 3.54.30.30 16.056-120.922591.2 19.50.49.0010.3 4.902100.0  21.7 -16.4 0.0 -16.',\n",
       " ' 225 54.33.80 16.270-120.897591.1 19.50.58.5010.3 4.902100.0  21.7 -11.0 0.0 -11.0 0.',\n",
       " ' 226 . 3.54.58.20 17.769-120.716590.3 19.52. 6.2010.0 4.692100.0  21.7 -16.5 0.0 -16.',\n",
       " ' 227 55. 1.70 17.983-120.691590.1 19.52.15.9010.0 4.692100.0  21.7 -11.1 0.0 -11.1 0.',\n",
       " ' 228 . 3.55.26.10 19.482-120.504589.3 19.53.25.10 9.7 4.482100.0  21.7 -16.6 0.0 -16.',\n",
       " ' 229 55.29.60 19.696-120.477589.1 19.53.35.00 9.7 4.482100.0  21.7 -11.2 0.0 -11.2 0.',\n",
       " ' 230 . 3.55.54.00 21.195-120.285588.3 19.54.45.70 9.4 4.132100.0  21.7 -16.7 0.0 -16.',\n",
       " ' 231 55.57.50 21.409-120.257588.2 19.54.55.80 9.3 4.132100.0  21.7 -11.4 0.0 -11.4 0.',\n",
       " ' 232 . 3.56.21.90 22.907-120.058587.3 19.56. 8.10 9.1 4.012100.0  21.7 -16.8 0.0 -16.',\n",
       " ' 233 56.25.40 23.121-120.029587.2 19.56.18.50 9.0 4.012100.0  21.7 -11.5 0.0 -11.5 0.',\n",
       " ' 234 . 3.56.49.90 24.618-119.822586.3 19.57.32.60 8.7 3.992100.0  21.7 -16.9 0.0 -16.',\n",
       " ' 235 56.53.40 24.832-119.792586.1 19.57.43.30 8.7 3.992100.0  21.7 -11.5 0.0 -11.5 0.',\n",
       " ' 236 . 3.57.17.80 26.329-119.576585.2 19.58.59.50 8.4 4.012100.0  21.7 -16.9 0.0 -16.',\n",
       " ' 237 57.21.30 26.543-119.545585.1 19.59.10.40 8.4 4.012100.0  21.7 -11.6 0.1 -11.6 0.',\n",
       " ' 238 . 3.57.45.70 28.040-119.320584.2 20. 0.29.00 8.1 3.832100.0  21.7 -17.0 0.0 -17.',\n",
       " ' 239 57.49.20 28.254-119.287584.1 20. 0.40.20 8.1 3.832100.0  21.7 -11.7 0.9 -11.7 0.',\n",
       " ' 240 . 3.58.13.60 29.750-119.051583.2 20. 2. 1.50 7.9 3.672100.0  21.7 -17.0 0.0 -17.',\n",
       " ' 241 58.17.10 29.963-119.017583.1 20. 2.13.10 7.8 3.672100.0  21.7 -11.8 0.5 -11.8 0.',\n",
       " ' 242 . 3.58.41.50 31.458-118.769582.2 20. 3.37.00 7.6 3.702100.0  21.7 -17.1 0.0 -17.',\n",
       " ' 243 58.45.00 31.671-118.733582.0 20. 3.49.10 7.6 3.702100.0  21.7 -11.8 0.8 -11.8 0.',\n",
       " ' 244 . 3.59. 9.50 33.165-118.472581.1 20. 5.16.30 7.4 3.552100.0  21.7 -17.1 0.0 -17.',\n",
       " ' 245 59.13.00 33.379-118.434581.0 20. 5.28.80 7.4 3.552100.0  21.7 -11.9 1.1 -11.9 1.',\n",
       " ' 246 . 3.59.37.40 34.871-118.157580.1 20. 6.59.60 7.2 3.552100.0  22.2 -17.2 0.6 -17.',\n",
       " ' 247 59.40.90 35.085-118.118579.9 20. 7.12.60 7.2 3.552100.0  22.2  -2.9 1.7  -2.6 1.',\n",
       " ' 248 . 4. 0. 5.30 36.577-117.826579.0 20. 8.47.10 7.0 3.722100.0  22.0 -17.2 0.1 -17.',\n",
       " ' 249  0. 8.80 36.790-117.784578.9 20. 9. 0.70 7.0 3.722100.0  22.0  -4.2 1.1  -3.9 1.',\n",
       " ' 250 . 4. 0.33.20 38.279-117.474577.9 20.10.39.60 6.9 3.722100.0  22.0  23.9 4.6  23.',\n",
       " ' 251  0.36.70 38.492-117.429577.8 20.10.53.80 6.9 3.722100.0  22.0  21.5 4.7  20.7 4.',\n",
       " ' 252 . 4. 1. 1.10 39.981-117.099576.8 20.12.37.40 6.8 3.702100.0  21.7 -10.3 0.5  -9.',\n",
       " ' 253  1. 4.60 40.193-117.052576.7 20.12.52.30 6.8 3.702100.0  21.7  -1.1 1.1  -0.6 1.',\n",
       " ' 254 . 4. 1.29.10 41.680-116.699575.7 20.14.41.30 6.7 3.722100.0  21.7 -17.3 0.2 -17.',\n",
       " ' 255  1.32.60 41.892-116.648575.6 20.14.56.90 6.7 3.722100.0  21.7  -0.9 2.1   0.1 2.',\n",
       " ' 256 . 4. 1.57.00 43.377-116.271574.6 20.16.52.00 6.6 3.672100.0  21.7 -17.3 0.4 -17.',\n",
       " ' 257  2. 0.50 43.590-116.217574.5 20.17. 8.50 6.6 3.672100.0  21.7  -0.0 2.6   2.3 3.',\n",
       " ' 258 . 4. 2.24.90 45.072-115.811573.5 20.19.10.40 6.5 3.632100.0  21.7 -17.3 0.4 -17.',\n",
       " ' 259  2.28.40 45.284-115.752573.4 20.19.27.90 6.5 3.632100.0  21.7   0.9 3.8   5.0 4.',\n",
       " ' 260 . 4. 2.52.80 46.763-115.316572.4 20.21.37.00 6.5 3.702100.0  21.7 -17.3 0.5 -17.',\n",
       " ' 261  2.56.30 46.974-115.253572.3 20.21.55.60 6.5 3.702100.0  21.7  -7.6 1.3  -3.6 1.',\n",
       " ' 262 . 4. 3.20.70 48.452-114.781571.3 20.24.13.20 6.4 3.722100.0  21.7 -17.3 0.4 -17.',\n",
       " ' 263  3.24.20 48.663-114.713571.1 20.24.33.00 6.4 3.722100.0  21.7 -12.0 1.1  -9.1 1.',\n",
       " ' 264 . 4. 3.48.70 50.136-114.201570.1 20.27. 0.30 6.4 3.672100.0  21.7 -17.3 0.2 -17.',\n",
       " ' 265  3.52.20 50.346-114.128570.0 20.27.21.50 6.4 3.672100.0  21.7 -12.0 1.0  -9.1 1.',\n",
       " ' 266 . 4. 4.16.60 51.816-113.571568.9 20.29.59.60 6.4 3.112100.0  21.7 -17.4 0.8 -17.',\n",
       " ' 267  4.20.10 52.026-113.490568.8 20.30.22.40 6.4 3.112100.0  21.7 -12.1 1.0  -4.7 1.',\n",
       " ' 268 . 4. 4.44.50 53.492-112.882567.8 20.33.12.70 6.3 3.302100.0  21.7  -9.9 0.3  -9.',\n",
       " ' 269  4.48.00 53.701-112.795567.6 20.33.37.30 6.3 3.302100.0  21.7  -3.7 1.7   1.2 2.',\n",
       " ' 270 . 4. 5.12.40 55.161-112.128566.6 20.36.41.80 6.3 3.452100.0  21.7 -17.3 0.2 -17.',\n",
       " ' 271  5.15.90 55.370-112.031566.4 20.37. 8.40 6.3 3.452100.0  21.7 -12.1 1.1  -0.4 1.',\n",
       " ' 272 . 4. 5.40.30 56.825-111.296565.4 20.40.29.30 6.3 3.502100.0  21.7 -17.3 0.2 -17.',\n",
       " ' 273  5.43.80 57.032-111.190565.2 20.40.58.30 6.3 3.502100.0  21.7  -5.9 1.2   5.3 4.',\n",
       " ' 274 . 4. 6. 8.30 58.480-110.376564.1 20.44.37.90 6.2 3.272100.0  21.7 -17.3 0.3 -17.',\n",
       " ' 275  6.11.80 58.686-110.259564.0 20.45. 9.60 6.2 3.272100.0  21.7  -3.7 1.7   7.2 4.',\n",
       " ' 276 . 4. 6.36.20 60.127-109.355562.9 20.49.11.00 6.2 3.302100.0  21.7 -17.3 1.3 -17.',\n",
       " ' 277  6.39.70 60.332-109.224562.8 20.49.45.80 6.2 3.302100.0  21.7   2.1 2.5  10.6 4.',\n",
       " ' 278 . 4. 7. 4.10 61.762-108.213561.7 20.54.12.90 6.2 3.482100.0  21.7 -14.7 2.3  -7.',\n",
       " ' 279  7. 7.60 61.967-108.067561.5 20.54.51.50 6.1 3.482100.0  21.7   7.4 4.6  14.8 4.',\n",
       " ' 280 . 4. 7.32.00 63.386-106.930560.4 20.59.48.90 6.1 3.382100.0  21.7 -17.3 0.8 -17.',\n",
       " ' 281  7.35.50 63.589-106.765560.2 21. 0.31.90 6.1 3.382100.0  21.7   4.9 4.6  12.8 4.',\n",
       " ' 282 . 4. 7.59.90 64.994-105.478559.1 21. 6. 5.10 6.0 3.682100.0  21.7  19.4 4.6  18.',\n",
       " ' 283  8. 3.40 65.195-105.292559.0 21. 6.53.40 6.0 3.682100.0  21.7  21.5 4.6  20.8 4.',\n",
       " ' 284 . 4. 8.27.90 66.584-103.827557.8 21.13. 9.30 6.0 3.672100.0  21.7 -10.2 0.1 -17.',\n",
       " ' 285  8.31.40 66.783-103.615557.7 21.14. 3.80 6.0 3.672100.0  21.7  -6.5 0.1  -6.4 0.',\n",
       " ' 286 . 4. 8.55.80 68.153-101.934556.5 21.21.11.60 5.9 3.722100.0  21.7 -17.1 0.0 -17.',\n",
       " ' 287  8.59.30 68.348-101.690556.4 21.22.13.60 5.9 3.722100.0  21.7 -11.8 0.0 -11.8 0.',\n",
       " ' 288 . 4. 9.23.70 69.693 -99.749555.2 21.30.24.00 5.9 3.582100.0  21.7 -17.1 0.0 -17.',\n",
       " ' 289  9.27.20 69.885 -99.467555.0 21.31.35.20 5.9 3.582100.0  21.7 -11.8 0.0 -11.8 0.',\n",
       " ' 290 . 4. 9.51.60 71.199 -97.205553.9 21.41. 2.50 5.8 3.882100.0  21.7 -17.0 0.0 -17.',\n",
       " ' 291  9.55.10 71.386 -96.876553.7 21.42.25.00 5.8 3.882100.0  21.7 -11.7 0.0 -11.7 0.',\n",
       " ' 292 . 4.10.19.50 72.661 -94.221552.5 21.53.26.50 5.8 4.062100.0  21.5 -17.0 0.0 -17.',\n",
       " ' 293 10.23.00 72.842 -93.835552.3 21.55. 2.70 5.7 4.062100.0  21.5 -11.6 0.0 -11.6 0.',\n",
       " ' 294 . 4.10.47.50 74.068 -90.694551.1 22. 8. 0.80 5.7 4.482100.0  21.7 -16.9 0.0 -16.',\n",
       " ' 295 10.51.00 74.242 -90.237551.0 22. 9.54.10 5.7 4.482100.0  21.7 -11.5 0.0 -11.5 0.',\n",
       " ' 296 . 4.11.15.40 75.403 -86.499549.8 22.25.15.60 5.7 4.482100.0  22.0 -16.8 0.0 -16.',\n",
       " ' 297 11.18.90 75.567 -85.954549.6 22.27.29.90 5.7 4.482100.0  22.0 -11.4 0.0 -11.4 0.',\n",
       " ' 298 . 4.11.43.30 76.643 -81.488548.4 22.45.46.30 5.6 4.252100.0  21.7 -16.8 0.0 -16.',\n",
       " ' 299 11.46.80 76.795 -80.836548.2 22.48.26.10 5.6 4.252100.0  21.7 -11.4 0.0 -11.4 0.',\n",
       " ' 300 . 4.12.11.20 77.760 -75.503547.0 23.10.10.50 5.6 4.012100.0  20.9 -16.8 0.0 -16.',\n",
       " ' 301 12.14.70 77.896 -74.726546.8 23.13.20.60 5.6 4.012100.0  20.9 -11.4 0.0 -11.4 0.',\n",
       " ' 302 . 4.12.39.10 78.719 -68.409545.6 23.39. 0.90 5.6 3.902100.0  21.7 -14.1 0.1 -16.',\n",
       " ' 303 12.42.60 78.834 -67.489545.4 23.42.45.20 5.6 3.902100.0  21.7 -11.4 0.0 -11.4 0.',\n",
       " ' 304 . 4.13. 7.10 79.474 -60.155544.1  0.12.29.80 5.6 3.922100.0  21.7  -8.9 0.1 -16.',\n",
       " ' 305 13.10.60 79.562 -59.089544.0  0.16.49.10 5.6 3.922100.0  21.7 -11.3 0.0 -11.3 0.',\n",
       " ' 306 . 4.13.35.00 79.979 -50.860542.7  0.50. 8.50 5.6 3.652100.0  21.7  -9.6 0.3 -16.',\n",
       " ' 307 13.38.50 80.034 -49.669542.5  0.54.57.90 5.6 3.652100.0  21.7 -11.3 0.0 -11.3 0.',\n",
       " ' 308 . 4.14. 2.90 80.197 -40.878541.3  1.30.32.20 5.6 3.772100.0  21.7  -9.5 0.1 -16.',\n",
       " ' 309 14. 6.40 80.216 -39.613541.1  1.35.39.40 5.6 3.772100.0  21.7 -11.2 0.0 -11.2 0.',\n",
       " ' 310 . 4.14.30.80 80.109 -30.764539.8  2.11.27.60 5.7 4.012100.0  21.7 -11.1 0.0 -16.',\n",
       " ' 311 14.34.30 80.089 -29.500539.7  2.16.34.40 5.7 4.012100.0  21.7 -11.0 0.0 -11.0 0.',\n",
       " ' 312 . 4.14.58.70 79.722 -21.113538.4  2.50.31.50 5.7 4.012100.0  21.7 -11.0 0.1 -16.',\n",
       " ' 313 15. 2.20 79.665 -19.925538.2  2.55.20.30 5.7 4.012100.0  21.7 -11.0 0.0 -11.0 0.',\n",
       " ' 314 . 4.15.26.70 79.067 -12.378536.9  3.25.56.00 5.7 4.012100.0  21.7  25.5 4.7  24.',\n",
       " ' 315 15.30.20 78.977 -11.315536.8  3.30.14.40 5.7 4.012100.0  21.7  22.5 4.6  21.8 4.',\n",
       " ' 316 . 4.15.54.60 78.188  -4.773535.5  3.56.49.00 5.7 3.972100.0  21.7  -6.5 0.1 -16.',\n",
       " ' 317 15.58.10 78.071  -3.857535.3  4. 0.32.40 5.7 3.972100.0  21.7  -6.4 0.1  -6.9 0.',\n",
       " ' 318 . 4.16.22.50 77.128   1.687534.0  4.23. 7.40 5.7 3.792100.0  21.7 -16.0 0.0 -16.',\n",
       " ' 319 16.26.00 76.991   2.461533.9  4.26.16.70 5.7 3.792100.0  21.7 -10.7 0.0 -10.7 0.',\n",
       " ' 320 . 4.16.50.40 75.931   7.110532.6  4.45.16.80 5.8 4.012100.0  21.7 -15.9 0.0 -15.',\n",
       " ' 321 16.53.90 75.777   7.758532.4  4.47.55.90 5.8 4.012100.0  21.7 -10.6 0.0 -10.6 0.',\n",
       " ' 322 . 4.17.18.30 74.625  11.648531.1  5. 3.53.90 5.8 3.452100.0  21.7 -15.8 0.0 -15.',\n",
       " ' 323 17.21.80 74.459  12.191531.0  5. 6. 7.60 5.8 3.452100.0  21.7 -10.6 0.0 -10.6 0.',\n",
       " ' 324 . 4.17.46.30 73.238  15.455529.7  5.19.35.60 5.8 3.402100.0  20.9 -15.7 0.0 -15.',\n",
       " ' 325 17.49.80 73.062  15.911529.5  5.21.28.40 5.8 3.402100.0  20.9 -10.5 0.0 -10.5 0.',\n",
       " ' 326 . 4.18.14.20 71.786  18.667528.3  5.32.54.20 5.8 3.482100.0  20.9 -15.6 0.0 -15.',\n",
       " ' 327 18.17.70 71.603  19.052528.1  5.34.30.10 5.8 3.482100.0  20.9 -10.4 0.0 -10.4 0.',\n",
       " ' 328 . 4.18.42.10 70.285  21.396526.8  5.44.17.10 5.9 3.672100.0  20.9 -15.5 0.0 -15.',\n",
       " ' 329 18.45.60 70.096  21.724526.7  5.45.39.20 5.9 3.672100.0  20.9 -10.2 0.0 -10.2 0.',\n",
       " ' 330 . 4.19.10.00 68.744  23.732525.4  5.54. 5.70 5.9 3.772100.0  20.9 -12.6 0.0 -15.',\n",
       " ' 331 19.13.50 68.550  24.013525.3  5.55.16.70 6.0 3.772100.0  20.9 -10.1 0.0 -10.1 0.',\n",
       " ' 332 . 4.19.37.90 67.172  25.749524.0  6. 2.37.70 6.0 3.772100.0  21.1 -12.6 0.2 -15.',\n",
       " ' 333 19.41.40 66.974  25.992523.9  6. 3.39.60 6.0 3.772100.0  21.1 -10.0 0.0 -10.0 0.',\n",
       " ' 334 . 4.20. 5.90 65.573  27.503522.7  6.10. 6.60 6.1 3.922100.0  21.7  -5.6 1.4  -7.',\n",
       " ' 335 20. 9.40 65.372  27.715522.5  6.11. 0.90 6.1 3.922100.0  21.7  -9.9 0.0  -9.9 0.',\n",
       " ' 336 . 4.20.33.80 63.953  29.039521.3  6.16.43.20 6.2 3.862100.0  21.5  -4.5 2.1  -7.',\n",
       " ' 337 20.37.30 63.750  29.225521.1  6.17.31.40 6.2 3.862100.0  21.5  -9.8 0.0  -9.8 0.',\n",
       " ' 338 . 4.21. 1.70 62.316  30.395520.0  6.22.36.50 6.3 3.722100.0  21.7  88.8 3.8   1.',\n",
       " ' 339 21. 5.20 62.111  30.559519.8  6.23.19.40 6.4 3.722100.0  21.7  -9.7 0.1  -9.7 0.',\n",
       " ' 340 . 4.21.29.60 60.664  31.598518.6  6.27.53.20 6.5 3.652100.0  21.7   1.3 4.3   2.',\n",
       " ' 341 21.33.10 60.457  31.744518.5  6.28.31.70 6.5 3.652100.0  21.7  -9.6 0.1  -9.6 0.',\n",
       " ' 342 . 4.21.57.50 58.999  32.672517.4  6.32.38.90 6.6 3.632100.0  21.7   4.8 4.5   6.',\n",
       " ' 343 22. 1.00 58.790  32.803517.2  6.33.13.70 6.7 3.632100.0  21.7  -9.5 0.1  -9.5 0.',\n",
       " ' 344 . 4.22.25.50 57.323  33.636516.1  6.36.58.10 6.8 3.672100.0  21.7   4.5 4.5   5.',\n",
       " ' 345 22.29.00 57.113  33.753515.9  6.37.29.80 6.8 3.672100.0  21.7  -9.4 0.3  -9.4 0.',\n",
       " ' 346 . 4.22.53.40 55.638  34.506514.9  6.40.54.90 7.0 3.722100.0  20.9  21.9 4.5  21.',\n",
       " ' 347 22.56.90 55.427  34.612514.7  6.41.23.80 7.0 3.722100.0  20.9  23.7 4.6  23.3 4.',\n",
       " ' 348 . 4.23.21.30 53.944  35.295513.7  6.44.32.00 7.1 3.722100.0  20.9   9.2 4.5   9.',\n",
       " ' 349 23.24.80 53.732  35.391513.5  6.44.58.60 7.2 3.722100.0  20.9   0.2 0.6  -0.6 0.',\n",
       " ' 350 . 4.23.49.20 52.244  36.013512.5  6.47.52.40 7.3 3.702100.0  21.7   8.3 4.5   8.',\n",
       " ' 351 23.52.70 52.031  36.101512.4  6.48.17.00 7.3 3.702100.0  21.7  -7.6 0.3  -8.9 0.',\n",
       " ' 352 . 4.24.17.10 50.536  36.670511.4  6.50.58.00 7.5 3.672100.0  20.9  10.9 4.5  10.',\n",
       " ' 353 24.20.60 50.323  36.751511.3  6.51.20.80 7.5 3.672100.0  20.9  -2.9 0.5  -3.7 0.',\n",
       " ' 354 . 4.24.45.10 48.823  37.274510.3  6.53.50.70 7.7 3.692100.0  20.9  13.2 4.5  13.',\n",
       " ' 355 24.48.60 48.609  37.347510.2  6.54.11.90 7.7 3.692100.0  20.9  -9.1 0.4  -9.1 0.',\n",
       " ' 356 . 4.25.13.00 47.106  37.829509.3  6.56.32.00 7.9 3.862100.0  20.9  10.4 4.5  10.',\n",
       " ' 357 25.16.50 46.891  37.897509.2  6.56.51.90 7.9 3.862100.0  20.9  -9.0 0.1  -9.0 0.',\n",
       " ' 358 . 4.25.40.90 45.384  38.343508.3  6.59. 3.20 8.0 3.812100.0  20.9   7.3 4.5   5.',\n",
       " ' 359 25.44.40 45.168  38.406508.2  6.59.21.80 8.0 3.812100.0  20.9  -7.1 0.3  -8.5 0.',\n",
       " ' 360 . 4.26. 8.80 43.657  38.819507.4  7. 1.25.50 8.2 3.792100.0  20.9  11.1 4.5  12.',\n",
       " ' 361 26.12.30 43.441  38.878507.3  7. 1.43.00 8.2 3.792100.0  20.9  -8.9 0.4  -8.9 0.',\n",
       " ' 362 . 4.26.36.70 41.926  39.264506.5  7. 3.40.00 8.3 3.792100.0  20.9   8.1 4.5   8.',\n",
       " ' 363 26.40.20 41.710  39.318506.4  7. 3.56.60 8.3 3.792100.0  20.9  -5.6 1.0  -7.2 0.',\n",
       " ' 364 . 4.27. 4.70 40.192  39.678505.7  7. 5.47.30 8.4 3.752100.0  21.7   0.9 4.2   0.',\n",
       " ' 365 27. 8.20 39.976  39.729505.5  7. 6. 3.00 8.4 3.752100.0  21.7  -3.5 1.0  -5.0 1.',\n",
       " ' 366 . 4.27.32.60 38.456  40.066504.9  7. 7.48.30 8.5 3.772100.0  21.7   2.0 3.9   0.',\n",
       " ' 367 27.36.10 38.239  40.113504.8  7. 8. 3.30 8.5 3.772100.0  21.7  -7.3 0.9  -8.9 0.',\n",
       " ' 368 . 4.28. 0.50 36.716  40.430504.2  7. 9.43.70 8.5 3.912100.0  21.7  -1.4 2.9  -7.',\n",
       " ' 369 28. 4.00 36.498  40.475504.1  7. 9.57.90 8.5 3.912100.0  21.7  -7.2 0.7  -8.5 0.',\n",
       " ' 370 . 4.28.28.40 34.973  40.774503.5  7.11.34.10 8.5 3.922100.0  21.7  -3.5 1.9 -14.',\n",
       " ' 371 28.31.90 34.755  40.816503.4  7.11.47.70 8.5 3.922100.0  21.7  -8.8 0.6  -8.8 0.',\n",
       " ' 372 . 4.28.56.30 33.229  41.098502.9  7.13.19.90 8.5 3.902100.0  21.7  -3.6 1.4 -14.',\n",
       " ' 373 28.59.80 33.011  41.138502.9  7.13.33.00 8.5 3.902100.0  21.7  -8.8 0.6  -8.8 0.',\n",
       " ' 374 . 4.29.24.30 31.482  41.405502.4  7.15. 1.50 8.5 3.922100.0  20.9 -11.4 1.2 -14.',\n",
       " ' 375 29.27.80 31.264  41.443502.3  7.15.14.00 8.5 3.922100.0  20.9  -8.9 0.1  -8.9 0.',\n",
       " ' 376 . 4.29.52.20 29.733  41.697502.0  7.16.39.30 8.4 3.922100.0  20.9   1.4 3.1 -14.',\n",
       " ' 377 29.55.70 29.514  41.733501.9  7.16.51.50 8.4 3.922100.0  20.9  -8.9 0.2  -8.9 0.',\n",
       " ' 378 . 4.30.20.10 27.982  41.975501.6  7.18.14.00 8.4 3.832100.0  20.9  26.9 4.6  26.',\n",
       " ' 379 30.23.60 27.763  42.009501.5  7.18.25.70 8.4 3.832100.0  20.9  24.0 4.7  23.5 4.',\n",
       " ' 380 . 4.30.48.00 26.230  42.240501.3  7.19.45.50 8.5 3.882100.0  21.1   2.7 3.8 -14.',\n",
       " ' 381 30.51.50 26.011  42.272501.2  7.19.56.90 8.5 3.882100.0  21.1  -3.6 0.2  -5.0 0.',\n",
       " ' 382 . 4.31.15.90 24.477  42.493501.0  7.21.14.30 8.6 3.832100.0  21.1   2.4 4.1 -14.',\n",
       " ' 383 31.19.40 24.258  42.525501.0  7.21.25.30 8.6 3.832100.0  21.1  -9.1 0.0  -9.1 0.',\n",
       " ' 384 . 4.31.43.90 22.722  42.737500.9  7.22.40.80 8.8 3.722100.0  20.9   0.6 3.6 -14.',\n",
       " ' 385 31.47.40 22.503  42.768500.8  7.22.51.60 8.8 3.722100.0  20.9  -9.1 0.0  -9.1 0.',\n",
       " ' 386 . 4.32.11.80 20.966  42.972500.8  7.24. 5.20 9.0 3.552100.0  20.9  -0.2 2.9 -14.',\n",
       " ' 387 32.15.30 20.746  43.002500.8  7.24.15.60 9.1 3.552100.0  20.9  -9.2 0.0  -9.2 0.',\n",
       " ' 388 . 4.32.39.70 19.209  43.199500.8  7.25.27.50 9.3 3.402100.0  20.9  -3.2 1.1 -14.',\n",
       " ' 389 32.43.20 18.989  43.227500.8  7.25.37.80 9.4 3.402100.0  20.9  -9.3 0.0  -9.3 0.',\n",
       " ' 390 . 4.33. 7.60 17.451  43.418500.8  7.26.48.00 9.7 3.272100.0  20.9  -7.7 0.3 -14.',\n",
       " ' 391 33.11.10 17.231  43.445500.8  7.26.58.00 9.7 3.272100.0  20.9  -9.4 0.0  -9.4 0.',\n",
       " ' 392 . 4.33.35.50 15.692  43.631501.0  7.28. 7.10 9.9 3.222100.0  20.9 -12.0 0.0 -14.',\n",
       " ' 393 33.39.00 15.472  43.658501.0  7.28.16.90 9.9 3.222100.0  20.9  -9.5 0.0  -9.5 0.',\n",
       " ' 394 . 4.34. 3.50 13.932  43.839501.2  7.29.24.8010.1 3.052100.0  20.9 -14.9 0.0 -14.',\n",
       " ' 395 34. 7.00 13.712  43.864501.2  7.29.34.4010.1 3.052100.0  20.9  -9.7 0.0  -9.7 0.',\n",
       " ' 396 . 4.34.31.40 12.172  44.041501.5  7.30.41.2010.2 2.912100.0  20.9 -15.0 0.0 -15.',\n",
       " ' 397 34.34.90 11.952  44.066501.5  7.30.50.7010.2 2.912100.0  20.9  -9.8 0.0  -9.8 0.',\n",
       " ' 398 . 4.34.59.30 10.412  44.240501.9  7.31.56.8010.2 2.842100.0  20.9 -15.1 0.0 -15.',\n",
       " ' 399 35. 2.80 10.192  44.264501.9  7.32. 6.2010.2 2.842100.0  20.9  -9.9 0.0  -9.9 0.',\n",
       " ' 400 . 4.35.27.20  8.652  44.435502.4  7.33.11.5010.3 2.782100.0  21.7 -15.2 0.0 -15.',\n",
       " ' 401 35.30.70  8.432  44.459502.4  7.33.20.8010.3 2.782100.0  21.7 -10.0 0.0 -10.0 0.',\n",
       " ' 402 . 4.35.55.10  6.892  44.626502.9  7.34.25.4010.4 2.782100.0  20.9 -15.3 0.0 -15.',\n",
       " ' 403 35.58.60  6.671  44.650503.0  7.34.34.7010.4 2.782100.0  20.9 -10.1 0.0 -10.1 0.',\n",
       " ' 404 . 4.36.23.10  5.131  44.816503.5  7.35.38.8010.6 2.782100.0  20.9 -15.4 0.1 -15.',\n",
       " ' 405 36.26.60  4.911  44.839503.6  7.35.48.0010.6 2.782100.0  20.9 -10.2 0.1 -10.2 0.',\n",
       " ' 406 . 4.36.51.00  3.370  45.003504.3  7.36.51.7010.7 2.882100.0  20.9 -15.5 0.0 -15.',\n",
       " ' 407 36.54.50  3.150  45.027504.4  7.37. 0.8010.8 2.882100.0  20.9 -10.3 0.0 -10.3 0.',\n",
       " ' 408 . 4.37.18.90  1.610  45.190505.1  7.38. 4.5010.8 2.962100.0  20.9 -15.6 0.0 -15.',\n",
       " ' 409 37.22.40  1.390  45.214505.2  7.38.13.6010.8 2.962100.0  20.9 -10.4 0.0 -10.4 0.',\n",
       " ' 410 . 4.37.46.80 -0.149  45.376505.9  7.39.17.0010.8 3.022100.0  21.1  20.8 4.5  20.',\n",
       " ' 411 37.50.30 -0.369  45.399506.0  7.39.26.0010.8 3.022100.0  21.1  22.9 4.7  22.0 4.',\n",
       " ' 412 . 4.38.14.70 -1.909  45.561506.9  7.40.29.5010.8 3.072100.0  21.1  -9.7 0.1 -15.',\n",
       " ' 413 38.18.20 -2.129  45.585507.0  7.40.38.6010.7 3.072100.0  21.1  -5.6 0.1  -6.8 0.',\n",
       " ' 414 . 4.38.42.70 -3.667  45.748507.9  7.41.42.2010.6 3.052100.0  20.9 -15.9 0.0 -15.',\n",
       " ' 415 38.46.20 -3.887  45.772508.0  7.41.51.3010.6 3.052100.0  20.9 -10.7 0.0 -10.7 0.',\n",
       " ' 416 . 4.39.10.60 -5.425  45.936509.0  7.42.55.2010.4 2.962100.0  20.9 -16.0 0.0 -16.',\n",
       " ' 417 39.14.10 -5.645  45.959509.1  7.43. 4.3010.4 2.962100.0  20.9 -10.8 0.0 -10.8 0.',\n",
       " ' 418 . 4.39.38.50 -7.182  46.125510.2  7.44. 8.6010.2 2.812100.0  21.7 -16.1 0.0 -16.',\n",
       " ' 419 39.42.00 -7.402  46.149510.3  7.44.17.8010.2 2.812100.0  21.7 -10.9 0.0 -10.9 0.',\n",
       " ' 420 . 4.40. 6.40 -8.939  46.317511.4  7.45.22.50 9.9 2.722100.0  21.7 -16.2 0.0 -16.',\n",
       " ' 421 40. 9.90 -9.158  46.341511.6  7.45.31.80 9.9 2.722100.0  21.7 -11.0 0.0 -11.0 0.',\n",
       " ' 422 . 4.40. 6.40 -8.939  46.317511.4  7.45.22.50 9.9 2.722100.0  21.7  88.888.8  88.',\n",
       " ' 423 40. 9.90 -9.158  46.341511.6  7.45.31.80 9.9 2.722100.0  21.7  88.888.8  88.888.']"
      ]
     },
     "execution_count": 24,
     "metadata": {},
     "output_type": "execute_result"
    }
   ],
   "source": [
    "[\"%4d %s\" % (i, l[:80]) for i, l in enumerate(list(chunkstring(section1, 164)))]"
   ]
  },
  {
   "cell_type": "markdown",
   "metadata": {},
   "source": [
    "So it's a bit cleaner (but we miss half the records) to look every 328 bytes:"
   ]
  },
  {
   "cell_type": "code",
   "execution_count": 25,
   "metadata": {
    "collapsed": false
   },
   "outputs": [
    {
     "data": {
      "text/plain": [
       "['   0 . 3. 2.23.20 -1.357  69.581506.5  7.40.42.8010.9 3.672100.0  20.9 -15.7 0.0 -15.',\n",
       " '   1 . 3. 2.51.10 -3.116  69.768507.5  7.41.55.5010.8 3.762100.0  20.9 -15.8 0.0 -15.',\n",
       " '   2 . 3. 3.19.10 -4.874  69.955508.6  7.43. 8.3010.6 3.792100.0  21.1 -15.9 0.0 -15.',\n",
       " '   3 . 3. 3.47.00 -6.631  70.144509.7  7.44.21.5010.4 3.812100.0  21.1 -16.0 0.0 -16.',\n",
       " '   4 . 3. 4.14.90 -8.388  70.334510.9  7.45.35.1010.1 3.762100.0  20.9 -16.1 0.0 -16.',\n",
       " '   5 . 3. 4.42.80-10.144  70.528512.2  7.46.49.40 9.8 3.672100.0  20.9 -16.2 0.0 -16.',\n",
       " '   6 . 3. 5.10.70-11.898  70.725513.6  7.48. 4.70 9.4 3.552100.0  20.9 -16.3 0.0 -16.',\n",
       " '   7 . 3. 5.38.70-13.651  70.926515.0  7.49.20.80 9.2 3.652100.0  20.6 -16.4 0.0 -16.',\n",
       " '   8 . 3. 6. 6.60-15.403  71.131516.5  7.50.38.00 8.9 3.612100.0  20.9 -16.5 0.0 -16.',\n",
       " '   9 . 3. 6.34.50-17.154  71.341518.1  7.51.56.40 8.6 3.552100.0  20.9 -16.6 0.0 -16.',\n",
       " '  10 . 3. 7. 2.40-18.903  71.558519.7  7.53.16.30 8.4 3.452100.0  20.9 -16.7 0.0 -16.',\n",
       " '  11 . 3. 7.30.30-20.650  71.781521.4  7.54.37.90 8.2 3.272100.0  20.9 -16.8 0.0 -16.',\n",
       " '  12 . 3. 7.58.30-22.395  72.012523.2  7.56. 1.10 8.0 3.192100.0  20.9 -16.8 0.0 -16.',\n",
       " '  13 . 3. 8.26.20-24.138  72.251525.0  7.57.26.50 7.8 3.252100.0  20.9  19.6 4.5  18.',\n",
       " '  14 . 3. 8.54.10-25.879  72.501526.8  7.58.54.30 7.7 3.222100.0  20.9 -10.0 0.0 -17.',\n",
       " '  15 . 3. 9.22.00-27.619  72.761528.7  8. 0.24.60 7.5 3.192100.0  21.1 -17.0 0.0 -17.',\n",
       " '  16 . 3. 9.49.90-29.355  73.033530.7  8. 1.57.80 7.4 3.182100.0  20.9 -17.1 0.0 -17.',\n",
       " '  17 . 3.10.17.90-31.090  73.318532.7  8. 3.34.10 7.3 3.052100.0  20.9 -17.1 0.0 -17.',\n",
       " '  18 . 3.10.45.80-32.821  73.617534.7  8. 5.13.90 7.2 2.992100.0  20.9 -17.2 0.0 -17.',\n",
       " '  19 . 3.11.13.70-34.550  73.933536.8  8. 6.57.60 7.1 3.052100.0  20.9 -17.2 0.0 -17.',\n",
       " '  20 . 3.11.41.60-36.276  74.267538.9  8. 8.45.70 7.0 2.992100.0  20.9 -17.2 0.0 -17.',\n",
       " '  21 . 3.12. 9.50-37.998  74.621541.0  8.10.38.60 6.9 2.932100.0  20.9 -17.3 0.0 -17.',\n",
       " '  22 . 3.12.37.50-39.717  74.997543.1  8.12.36.70 6.9 2.912100.0  21.7 -17.3 0.0 -17.',\n",
       " '  23 . 3.13. 5.40-41.433  75.398545.3  8.14.40.80 6.8 2.812100.0  20.9 -17.3 0.0 -17.',\n",
       " '  24 . 3.13.33.30-43.144  75.826547.5  8.16.51.60 6.7 2.752100.0  21.7 -17.4 0.0 -17.',\n",
       " '  25 . 3.14. 1.20-44.851  76.286549.7  8.19. 9.80 6.7 2.882100.0  21.5 -17.4 0.0 -17.',\n",
       " '  26 . 3.14.29.10-46.554  76.780551.9  8.21.36.40 6.6 2.882100.0  20.9 -17.4 0.0 -17.',\n",
       " '  27 . 3.14.57.10-48.252  77.313554.1  8.24.12.20 6.6 2.882100.0  20.9 -17.4 0.0 -17.',\n",
       " '  28 . 3.15.25.00-49.945  77.890556.3  8.26.58.60 6.5 3.052100.0  21.1 -17.4 0.0 -17.',\n",
       " '  29 . 3.15.52.90-51.631  78.517558.5  8.29.57.10 6.5 3.022100.0  21.1  22.7 4.6  22.',\n",
       " '  30 . 3.16.20.80-53.312  79.202560.7  8.33. 9.20 6.4 3.112100.0  20.9  -9.7 0.1 -17.',\n",
       " '  31 . 3.16.48.70-54.985  79.950562.9  8.36.36.80 6.4 3.602100.0  21.1 -17.3 0.0 -17.',\n",
       " '  32 . 3.17.16.70-56.649  80.773565.1  8.40.22.20 6.3 3.022100.0  20.9 -17.4 0.0 -17.',\n",
       " '  33 . 3.17.44.60-58.305  81.682567.3  8.44.28.30 6.3 3.672100.0  21.7 -17.3 0.0 -17.',\n",
       " '  34 . 3.18.12.50-59.950  82.691569.5  8.48.58.30 6.2 3.482100.0  20.9 -17.3 0.0 -17.',\n",
       " '  35 . 3.18.40.40-61.583  83.816571.6  8.53.56.20 6.1 3.192100.0  21.7 -17.3 0.0 -17.',\n",
       " '  36 . 3.19. 8.30-63.203  85.078573.7  8.59.27.00 6.1 3.552100.0  21.7 -17.2 0.0 -17.',\n",
       " '  37 . 3.19.36.30-64.806  86.501575.8  9. 5.36.60 6.0 3.002100.0  21.7 -17.3 0.0 -17.',\n",
       " '  38 . 3.20. 4.20-66.391  88.117577.9  9.12.32.40 6.0 2.132100.0  21.7 -17.3 0.0 -17.',\n",
       " '  39 . 3.20.32.10-67.952  89.965579.9  9.20.23.70 5.9 2.372100.0  21.7 -10.4 0.0 -10.',\n",
       " '  40 . 3.21. 0.00-69.485  92.093581.9  9.29.22.20 5.9 3.142100.0  21.7 -17.1 0.0 -17.',\n",
       " '  41 . 3.21.27.90-70.984  94.560583.9  9.39.42.40 5.8 3.402100.0  20.9 -17.1 0.0 -17.',\n",
       " '  42 . 3.21.55.90-72.440  97.445585.8  9.51.42.70 5.8 3.112100.0  20.9 -17.1 0.0 -17.',\n",
       " '  43 . 3.22.23.80-73.843 100.843587.6 10. 5.46.00 5.8 3.242100.0  20.9 -17.0 0.0 -17.',\n",
       " '  44 . 3.22.51.70-75.177 104.870589.5 10.22.20.40 5.8 3.272100.0  20.9 -16.9 0.0 -16.',\n",
       " '  45 . 3.23.19.60-76.421 109.663591.2 10.41.58.80 5.8 4.692100.0  20.9  19.7 4.5  18.',\n",
       " '  46 . 3.23.47.50-77.550 115.374592.9 11. 5.17.30 5.8 4.592100.0  21.7  -9.7 0.0 -16.',\n",
       " '  47 . 3.24.15.50-78.531 122.137594.6 11.32.48.40 5.8 4.252100.0  21.7 -16.7 0.0 -16.',\n",
       " '  48 . 3.24.43.40-79.323 130.023596.2 12. 4.49.00 5.9 4.012100.0  21.7 -16.6 0.0 -16.',\n",
       " '  49 . 3.25.11.30-79.882 138.959597.8 12.41. 1.40 5.9 3.532100.0  21.7 -16.6 0.0 -16.',\n",
       " '  50 . 3.25.39.20-80.171 148.657599.3 13.20.16.90 6.0 3.252100.0  21.7 -16.5 0.0 -16.',\n",
       " '  51 . 3.26. 7.10-80.164 158.625600.7 14. 0.37.20 6.1 3.532100.0  21.7 -16.4 0.0 -16.',\n",
       " '  52 . 3.26.35.10-79.865 168.289602.1 14.39.44.30 6.1 3.482100.0  21.7 -16.3 0.0 -16.',\n",
       " '  53 . 3.27. 3.00-79.297 177.166603.4 15.15.42.70 6.2 3.272100.0  21.7 -16.3 0.0 -16.',\n",
       " '  54 . 3.27.30.90-78.500-175.013604.7 15.47.27.70 6.2 3.452100.0  21.7 -16.2 0.4 -16.',\n",
       " '  55 . 3.27.58.80-77.517-168.311605.9 16.14.44.10 6.2 3.402100.0  21.7 -16.1 1.2 -16.',\n",
       " '  56 . 3.28.26.70-76.388-162.653607.0 16.37.49.90 6.3 2.412100.0  21.7 -13.4 1.0 -16.',\n",
       " '  57 . 3.28.54.70-75.147-157.904608.1 16.57.17.80 6.3 2.162100.0  21.7 -10.6 1.3 -15.',\n",
       " '  58 . 3.29.22.60-73.820-153.913609.1 17.13.43.50 6.3 2.332100.0  21.7 -13.2 1.1 -15.',\n",
       " '  59 . 3.29.50.50-72.427-150.545610.0 17.27.39.60 6.3 1.912100.0  21.7   4.3 3.1 -15.',\n",
       " '  60 . 3.30.18.40-70.981-147.685610.9 17.39.34.10 6.3 1.942100.0  21.7   6.7 4.2 -15.',\n",
       " '  61 . 3.30.46.30-69.494-145.236611.7 17.49.49.70 6.3 2.702100.0  21.7  24.6 4.6  23.',\n",
       " '  62 . 3.31.14.30-67.975-143.126612.4 17.58.44.10 6.3 2.722100.0  21.7  -3.1 0.5 -15.',\n",
       " '  63 . 3.31.42.20-66.429-141.292613.1 18. 6.32.10 6.2 1.922100.0  21.5  -8.7 0.0  -8.',\n",
       " '  64 . 3.32.10.10-64.862-139.687613.7 18.13.25.20 6.2 1.732100.0  21.7  -8.7 0.0  -8.',\n",
       " '  65 . 3.32.38.00-63.277-138.273614.2 18.19.32.50 6.1 2.002100.0  21.7 -15.1 0.0 -15.',\n",
       " '  66 . 3.33. 5.90-61.677-137.020614.7 18.25. 1.10 6.1 2.052100.0  21.7 -15.0 0.0 -15.',\n",
       " '  67 . 3.33.33.90-60.065-135.903615.1 18.29.57.20 6.0 2.002100.0  21.7 -15.0 0.0 -15.',\n",
       " '  68 . 3.34. 1.80-58.443-134.901615.5 18.34.25.60 6.0 2.132100.0  21.7 -14.9 0.0 -14.',\n",
       " '  69 . 3.34.29.70-56.811-133.997615.8 18.38.30.30 5.9 2.092100.0  21.7 -14.8 0.0 -14.',\n",
       " '  70 . 3.34.57.60-55.171-133.180616.0 18.42.14.40 5.8 2.092100.0  21.7 -14.7 0.0 -14.',\n",
       " '  71 . 3.35.25.50-53.525-132.436616.2 18.45.40.80 5.7 2.132100.0  21.7 -14.6 0.0 -14.',\n",
       " '  72 . 3.35.53.50-51.873-131.757616.3 18.48.51.80 5.7 2.092100.0  21.7 -14.6 0.0 -14.',\n",
       " '  73 . 3.36.21.40-50.216-131.134616.4 18.51.49.20 5.6 2.052100.0  21.7 -14.5 0.0 -14.',\n",
       " '  74 . 3.36.49.30-48.554-130.561616.4 18.54.34.70 5.6 2.052100.0  21.7 -14.4 0.0 -14.',\n",
       " '  75 . 3.37.17.20-46.887-130.032616.3 18.57. 9.60 5.5 2.152100.0  21.7 -14.4 0.0 -14.',\n",
       " '  76 . 3.37.45.10-45.216-129.542616.2 18.59.35.10 5.5 2.172100.0  21.7 -14.3 0.0 -14.',\n",
       " '  77 . 3.38.13.10-43.543-129.086616.1 19. 1.52.40 5.5 2.152100.0  21.7  22.3 4.6  21.',\n",
       " '  78 . 3.38.41.00-41.866-128.661615.9 19. 4. 2.40 5.6 2.172100.0  21.7  -5.8 0.3  -6.',\n",
       " '  79 . 3.39. 8.90-40.186-128.264615.6 19. 6. 5.60 5.7 2.222100.0  21.7 -14.3 0.0 -14.',\n",
       " '  80 . 3.39.36.80-38.503-127.891615.3 19. 8. 3.00 5.8 2.222100.0  21.7 -14.2 0.1 -14.',\n",
       " '  81 . 3.40. 4.70-36.819-127.541615.0 19. 9.54.90 6.0 2.262100.0  21.7 -14.2 0.1 -14.',\n",
       " '  82 . 3.40.32.70-35.131-127.210614.6 19.11.42.20 6.3 2.262100.0  22.0 -14.2 0.0 -14.',\n",
       " '  83 . 3.41. 0.60-33.442-126.898614.2 19.13.25.00 6.7 2.262100.0  21.7 -14.3 0.0 -14.',\n",
       " '  84 . 3.41.28.50-31.750-126.602613.7 19.15. 3.90 7.1 2.292100.0  22.2 -14.3 0.0 -14.',\n",
       " '  85 . 3.41.56.40-30.058-126.321613.2 19.16.39.40 7.7 2.332100.0  21.7 -14.3 0.0 -14.',\n",
       " '  86 . 3.42.24.30-28.362-126.053612.7 19.18.11.60 8.3 2.372100.0  22.0 -14.3 0.0 -14.',\n",
       " '  87 . 3.42.52.30-26.666-125.797612.1 19.19.40.90 9.1 2.522100.0  21.7 -14.4 0.0 -14.',\n",
       " '  88 . 3.43.20.20-24.968-125.552611.5 19.21. 7.70 9.9 2.722100.0  21.7 -14.4 0.0 -14.',\n",
       " '  89 . 3.43.48.10-23.268-125.317610.9 19.22.32.1010.7 2.812100.0  21.5 -14.5 0.0 -14.',\n",
       " '  90 . 3.44.16.00-21.567-125.090610.2 19.23.54.5011.5 3.082100.0  21.7 -14.5 0.0 -14.',\n",
       " '  91 . 3.44.43.90-19.866-124.871609.6 19.25.14.9012.2 3.432100.0  21.7 -14.6 0.0 -14.',\n",
       " '  92 . 3.45.11.90-18.162-124.659608.8 19.26.33.7012.7 3.652100.0  21.7 -14.6 0.0 -14.',\n",
       " '  93 . 3.45.39.80-16.457-124.454608.1 19.27.50.9012.9 4.132100.0  21.7  27.1 4.6  26.',\n",
       " '  94 . 3.46. 7.70-14.752-124.254607.4 19.29. 6.7012.8 4.692100.0  21.7  -7.7 0.0 -14.',\n",
       " '  95 . 3.46.35.60-13.046-124.059606.6 19.30.21.4012.3 5.192100.0  21.7 -14.7 0.0 -14.',\n",
       " '  96 . 3.47. 3.50-11.338-123.869605.8 19.31.35.1011.7 5.522100.0  22.0 -14.8 0.0 -14.',\n",
       " '  97 . 3.47.31.50 -9.630-123.681605.0 19.32.48.1011.0 5.462100.0  21.7 -14.9 0.0 -14.',\n",
       " '  98 . 3.47.59.40 -7.921-123.496604.1 19.34. 0.3010.3 5.462100.0  21.7 -15.0 0.0 -15.',\n",
       " '  99 . 3.48.27.30 -6.211-123.314603.3 19.35.11.8010.0 5.462100.0  21.7 -15.1 0.0 -15.',\n",
       " ' 100 . 3.48.55.20 -4.501-123.134602.4 19.36.23.00 9.8 5.642100.0  21.7 -15.2 0.0 -15.',\n",
       " ' 101 . 3.49.23.10 -2.789-122.956601.5 19.37.33.80 9.9 5.812100.0  21.7 -15.3 0.0 -15.',\n",
       " ' 102 . 3.49.51.10 -1.078-122.778600.7 19.38.44.4010.2 6.052100.0  21.7 -15.3 0.1 -15.',\n",
       " ' 103 . 3.50.19.00  0.635-122.600599.8 19.39.55.1010.5 6.592100.0  21.7 -15.4 0.0 -15.',\n",
       " ' 104 . 3.50.46.90  2.347-122.422598.8 19.41. 5.7010.7 6.662100.0  21.5 -15.5 0.0 -15.',\n",
       " ' 105 . 3.51.14.80  4.060-122.243597.9 19.42.16.5010.9 6.542100.0  21.7 -15.6 0.0 -15.',\n",
       " ' 106 . 3.51.42.70  5.774-122.062597.0 19.43.27.8011.0 6.132100.0  21.7 -15.7 0.1 -15.',\n",
       " ' 107 . 3.52.10.70  7.487-121.881596.1 19.44.39.3011.0 5.782100.0  21.7 -15.9 0.0 -15.',\n",
       " ' 108 . 3.52.38.60  9.201-121.696595.1 19.45.51.5011.0 5.552100.0  22.0 -16.0 0.0 -16.',\n",
       " ' 109 . 3.53. 6.50 10.915-121.508594.2 19.47. 4.5010.9 5.192100.0  21.7  20.5 4.5  19.',\n",
       " ' 110 . 3.53.34.40 12.628-121.317593.2 19.48.18.3010.8 5.192100.0  21.7  -9.2 0.0 -16.',\n",
       " ' 111 . 3.54. 2.30 14.342-121.122592.2 19.49.33.1010.6 5.052100.0  21.7 -16.3 0.0 -16.',\n",
       " ' 112 . 3.54.30.30 16.056-120.922591.2 19.50.49.0010.3 4.902100.0  21.7 -16.4 0.0 -16.',\n",
       " ' 113 . 3.54.58.20 17.769-120.716590.3 19.52. 6.2010.0 4.692100.0  21.7 -16.5 0.0 -16.',\n",
       " ' 114 . 3.55.26.10 19.482-120.504589.3 19.53.25.10 9.7 4.482100.0  21.7 -16.6 0.0 -16.',\n",
       " ' 115 . 3.55.54.00 21.195-120.285588.3 19.54.45.70 9.4 4.132100.0  21.7 -16.7 0.0 -16.',\n",
       " ' 116 . 3.56.21.90 22.907-120.058587.3 19.56. 8.10 9.1 4.012100.0  21.7 -16.8 0.0 -16.',\n",
       " ' 117 . 3.56.49.90 24.618-119.822586.3 19.57.32.60 8.7 3.992100.0  21.7 -16.9 0.0 -16.',\n",
       " ' 118 . 3.57.17.80 26.329-119.576585.2 19.58.59.50 8.4 4.012100.0  21.7 -16.9 0.0 -16.',\n",
       " ' 119 . 3.57.45.70 28.040-119.320584.2 20. 0.29.00 8.1 3.832100.0  21.7 -17.0 0.0 -17.',\n",
       " ' 120 . 3.58.13.60 29.750-119.051583.2 20. 2. 1.50 7.9 3.672100.0  21.7 -17.0 0.0 -17.',\n",
       " ' 121 . 3.58.41.50 31.458-118.769582.2 20. 3.37.00 7.6 3.702100.0  21.7 -17.1 0.0 -17.',\n",
       " ' 122 . 3.59. 9.50 33.165-118.472581.1 20. 5.16.30 7.4 3.552100.0  21.7 -17.1 0.0 -17.',\n",
       " ' 123 . 3.59.37.40 34.871-118.157580.1 20. 6.59.60 7.2 3.552100.0  22.2 -17.2 0.6 -17.',\n",
       " ' 124 . 4. 0. 5.30 36.577-117.826579.0 20. 8.47.10 7.0 3.722100.0  22.0 -17.2 0.1 -17.',\n",
       " ' 125 . 4. 0.33.20 38.279-117.474577.9 20.10.39.60 6.9 3.722100.0  22.0  23.9 4.6  23.',\n",
       " ' 126 . 4. 1. 1.10 39.981-117.099576.8 20.12.37.40 6.8 3.702100.0  21.7 -10.3 0.5  -9.',\n",
       " ' 127 . 4. 1.29.10 41.680-116.699575.7 20.14.41.30 6.7 3.722100.0  21.7 -17.3 0.2 -17.',\n",
       " ' 128 . 4. 1.57.00 43.377-116.271574.6 20.16.52.00 6.6 3.672100.0  21.7 -17.3 0.4 -17.',\n",
       " ' 129 . 4. 2.24.90 45.072-115.811573.5 20.19.10.40 6.5 3.632100.0  21.7 -17.3 0.4 -17.',\n",
       " ' 130 . 4. 2.52.80 46.763-115.316572.4 20.21.37.00 6.5 3.702100.0  21.7 -17.3 0.5 -17.',\n",
       " ' 131 . 4. 3.20.70 48.452-114.781571.3 20.24.13.20 6.4 3.722100.0  21.7 -17.3 0.4 -17.',\n",
       " ' 132 . 4. 3.48.70 50.136-114.201570.1 20.27. 0.30 6.4 3.672100.0  21.7 -17.3 0.2 -17.',\n",
       " ' 133 . 4. 4.16.60 51.816-113.571568.9 20.29.59.60 6.4 3.112100.0  21.7 -17.4 0.8 -17.',\n",
       " ' 134 . 4. 4.44.50 53.492-112.882567.8 20.33.12.70 6.3 3.302100.0  21.7  -9.9 0.3  -9.',\n",
       " ' 135 . 4. 5.12.40 55.161-112.128566.6 20.36.41.80 6.3 3.452100.0  21.7 -17.3 0.2 -17.',\n",
       " ' 136 . 4. 5.40.30 56.825-111.296565.4 20.40.29.30 6.3 3.502100.0  21.7 -17.3 0.2 -17.',\n",
       " ' 137 . 4. 6. 8.30 58.480-110.376564.1 20.44.37.90 6.2 3.272100.0  21.7 -17.3 0.3 -17.',\n",
       " ' 138 . 4. 6.36.20 60.127-109.355562.9 20.49.11.00 6.2 3.302100.0  21.7 -17.3 1.3 -17.',\n",
       " ' 139 . 4. 7. 4.10 61.762-108.213561.7 20.54.12.90 6.2 3.482100.0  21.7 -14.7 2.3  -7.',\n",
       " ' 140 . 4. 7.32.00 63.386-106.930560.4 20.59.48.90 6.1 3.382100.0  21.7 -17.3 0.8 -17.',\n",
       " ' 141 . 4. 7.59.90 64.994-105.478559.1 21. 6. 5.10 6.0 3.682100.0  21.7  19.4 4.6  18.',\n",
       " ' 142 . 4. 8.27.90 66.584-103.827557.8 21.13. 9.30 6.0 3.672100.0  21.7 -10.2 0.1 -17.',\n",
       " ' 143 . 4. 8.55.80 68.153-101.934556.5 21.21.11.60 5.9 3.722100.0  21.7 -17.1 0.0 -17.',\n",
       " ' 144 . 4. 9.23.70 69.693 -99.749555.2 21.30.24.00 5.9 3.582100.0  21.7 -17.1 0.0 -17.',\n",
       " ' 145 . 4. 9.51.60 71.199 -97.205553.9 21.41. 2.50 5.8 3.882100.0  21.7 -17.0 0.0 -17.',\n",
       " ' 146 . 4.10.19.50 72.661 -94.221552.5 21.53.26.50 5.8 4.062100.0  21.5 -17.0 0.0 -17.',\n",
       " ' 147 . 4.10.47.50 74.068 -90.694551.1 22. 8. 0.80 5.7 4.482100.0  21.7 -16.9 0.0 -16.',\n",
       " ' 148 . 4.11.15.40 75.403 -86.499549.8 22.25.15.60 5.7 4.482100.0  22.0 -16.8 0.0 -16.',\n",
       " ' 149 . 4.11.43.30 76.643 -81.488548.4 22.45.46.30 5.6 4.252100.0  21.7 -16.8 0.0 -16.',\n",
       " ' 150 . 4.12.11.20 77.760 -75.503547.0 23.10.10.50 5.6 4.012100.0  20.9 -16.8 0.0 -16.',\n",
       " ' 151 . 4.12.39.10 78.719 -68.409545.6 23.39. 0.90 5.6 3.902100.0  21.7 -14.1 0.1 -16.',\n",
       " ' 152 . 4.13. 7.10 79.474 -60.155544.1  0.12.29.80 5.6 3.922100.0  21.7  -8.9 0.1 -16.',\n",
       " ' 153 . 4.13.35.00 79.979 -50.860542.7  0.50. 8.50 5.6 3.652100.0  21.7  -9.6 0.3 -16.',\n",
       " ' 154 . 4.14. 2.90 80.197 -40.878541.3  1.30.32.20 5.6 3.772100.0  21.7  -9.5 0.1 -16.',\n",
       " ' 155 . 4.14.30.80 80.109 -30.764539.8  2.11.27.60 5.7 4.012100.0  21.7 -11.1 0.0 -16.',\n",
       " ' 156 . 4.14.58.70 79.722 -21.113538.4  2.50.31.50 5.7 4.012100.0  21.7 -11.0 0.1 -16.',\n",
       " ' 157 . 4.15.26.70 79.067 -12.378536.9  3.25.56.00 5.7 4.012100.0  21.7  25.5 4.7  24.',\n",
       " ' 158 . 4.15.54.60 78.188  -4.773535.5  3.56.49.00 5.7 3.972100.0  21.7  -6.5 0.1 -16.',\n",
       " ' 159 . 4.16.22.50 77.128   1.687534.0  4.23. 7.40 5.7 3.792100.0  21.7 -16.0 0.0 -16.',\n",
       " ' 160 . 4.16.50.40 75.931   7.110532.6  4.45.16.80 5.8 4.012100.0  21.7 -15.9 0.0 -15.',\n",
       " ' 161 . 4.17.18.30 74.625  11.648531.1  5. 3.53.90 5.8 3.452100.0  21.7 -15.8 0.0 -15.',\n",
       " ' 162 . 4.17.46.30 73.238  15.455529.7  5.19.35.60 5.8 3.402100.0  20.9 -15.7 0.0 -15.',\n",
       " ' 163 . 4.18.14.20 71.786  18.667528.3  5.32.54.20 5.8 3.482100.0  20.9 -15.6 0.0 -15.',\n",
       " ' 164 . 4.18.42.10 70.285  21.396526.8  5.44.17.10 5.9 3.672100.0  20.9 -15.5 0.0 -15.',\n",
       " ' 165 . 4.19.10.00 68.744  23.732525.4  5.54. 5.70 5.9 3.772100.0  20.9 -12.6 0.0 -15.',\n",
       " ' 166 . 4.19.37.90 67.172  25.749524.0  6. 2.37.70 6.0 3.772100.0  21.1 -12.6 0.2 -15.',\n",
       " ' 167 . 4.20. 5.90 65.573  27.503522.7  6.10. 6.60 6.1 3.922100.0  21.7  -5.6 1.4  -7.',\n",
       " ' 168 . 4.20.33.80 63.953  29.039521.3  6.16.43.20 6.2 3.862100.0  21.5  -4.5 2.1  -7.',\n",
       " ' 169 . 4.21. 1.70 62.316  30.395520.0  6.22.36.50 6.3 3.722100.0  21.7  88.8 3.8   1.',\n",
       " ' 170 . 4.21.29.60 60.664  31.598518.6  6.27.53.20 6.5 3.652100.0  21.7   1.3 4.3   2.',\n",
       " ' 171 . 4.21.57.50 58.999  32.672517.4  6.32.38.90 6.6 3.632100.0  21.7   4.8 4.5   6.',\n",
       " ' 172 . 4.22.25.50 57.323  33.636516.1  6.36.58.10 6.8 3.672100.0  21.7   4.5 4.5   5.',\n",
       " ' 173 . 4.22.53.40 55.638  34.506514.9  6.40.54.90 7.0 3.722100.0  20.9  21.9 4.5  21.',\n",
       " ' 174 . 4.23.21.30 53.944  35.295513.7  6.44.32.00 7.1 3.722100.0  20.9   9.2 4.5   9.',\n",
       " ' 175 . 4.23.49.20 52.244  36.013512.5  6.47.52.40 7.3 3.702100.0  21.7   8.3 4.5   8.',\n",
       " ' 176 . 4.24.17.10 50.536  36.670511.4  6.50.58.00 7.5 3.672100.0  20.9  10.9 4.5  10.',\n",
       " ' 177 . 4.24.45.10 48.823  37.274510.3  6.53.50.70 7.7 3.692100.0  20.9  13.2 4.5  13.',\n",
       " ' 178 . 4.25.13.00 47.106  37.829509.3  6.56.32.00 7.9 3.862100.0  20.9  10.4 4.5  10.',\n",
       " ' 179 . 4.25.40.90 45.384  38.343508.3  6.59. 3.20 8.0 3.812100.0  20.9   7.3 4.5   5.',\n",
       " ' 180 . 4.26. 8.80 43.657  38.819507.4  7. 1.25.50 8.2 3.792100.0  20.9  11.1 4.5  12.',\n",
       " ' 181 . 4.26.36.70 41.926  39.264506.5  7. 3.40.00 8.3 3.792100.0  20.9   8.1 4.5   8.',\n",
       " ' 182 . 4.27. 4.70 40.192  39.678505.7  7. 5.47.30 8.4 3.752100.0  21.7   0.9 4.2   0.',\n",
       " ' 183 . 4.27.32.60 38.456  40.066504.9  7. 7.48.30 8.5 3.772100.0  21.7   2.0 3.9   0.',\n",
       " ' 184 . 4.28. 0.50 36.716  40.430504.2  7. 9.43.70 8.5 3.912100.0  21.7  -1.4 2.9  -7.',\n",
       " ' 185 . 4.28.28.40 34.973  40.774503.5  7.11.34.10 8.5 3.922100.0  21.7  -3.5 1.9 -14.',\n",
       " ' 186 . 4.28.56.30 33.229  41.098502.9  7.13.19.90 8.5 3.902100.0  21.7  -3.6 1.4 -14.',\n",
       " ' 187 . 4.29.24.30 31.482  41.405502.4  7.15. 1.50 8.5 3.922100.0  20.9 -11.4 1.2 -14.',\n",
       " ' 188 . 4.29.52.20 29.733  41.697502.0  7.16.39.30 8.4 3.922100.0  20.9   1.4 3.1 -14.',\n",
       " ' 189 . 4.30.20.10 27.982  41.975501.6  7.18.14.00 8.4 3.832100.0  20.9  26.9 4.6  26.',\n",
       " ' 190 . 4.30.48.00 26.230  42.240501.3  7.19.45.50 8.5 3.882100.0  21.1   2.7 3.8 -14.',\n",
       " ' 191 . 4.31.15.90 24.477  42.493501.0  7.21.14.30 8.6 3.832100.0  21.1   2.4 4.1 -14.',\n",
       " ' 192 . 4.31.43.90 22.722  42.737500.9  7.22.40.80 8.8 3.722100.0  20.9   0.6 3.6 -14.',\n",
       " ' 193 . 4.32.11.80 20.966  42.972500.8  7.24. 5.20 9.0 3.552100.0  20.9  -0.2 2.9 -14.',\n",
       " ' 194 . 4.32.39.70 19.209  43.199500.8  7.25.27.50 9.3 3.402100.0  20.9  -3.2 1.1 -14.',\n",
       " ' 195 . 4.33. 7.60 17.451  43.418500.8  7.26.48.00 9.7 3.272100.0  20.9  -7.7 0.3 -14.',\n",
       " ' 196 . 4.33.35.50 15.692  43.631501.0  7.28. 7.10 9.9 3.222100.0  20.9 -12.0 0.0 -14.',\n",
       " ' 197 . 4.34. 3.50 13.932  43.839501.2  7.29.24.8010.1 3.052100.0  20.9 -14.9 0.0 -14.',\n",
       " ' 198 . 4.34.31.40 12.172  44.041501.5  7.30.41.2010.2 2.912100.0  20.9 -15.0 0.0 -15.',\n",
       " ' 199 . 4.34.59.30 10.412  44.240501.9  7.31.56.8010.2 2.842100.0  20.9 -15.1 0.0 -15.',\n",
       " ' 200 . 4.35.27.20  8.652  44.435502.4  7.33.11.5010.3 2.782100.0  21.7 -15.2 0.0 -15.',\n",
       " ' 201 . 4.35.55.10  6.892  44.626502.9  7.34.25.4010.4 2.782100.0  20.9 -15.3 0.0 -15.',\n",
       " ' 202 . 4.36.23.10  5.131  44.816503.5  7.35.38.8010.6 2.782100.0  20.9 -15.4 0.1 -15.',\n",
       " ' 203 . 4.36.51.00  3.370  45.003504.3  7.36.51.7010.7 2.882100.0  20.9 -15.5 0.0 -15.',\n",
       " ' 204 . 4.37.18.90  1.610  45.190505.1  7.38. 4.5010.8 2.962100.0  20.9 -15.6 0.0 -15.',\n",
       " ' 205 . 4.37.46.80 -0.149  45.376505.9  7.39.17.0010.8 3.022100.0  21.1  20.8 4.5  20.',\n",
       " ' 206 . 4.38.14.70 -1.909  45.561506.9  7.40.29.5010.8 3.072100.0  21.1  -9.7 0.1 -15.',\n",
       " ' 207 . 4.38.42.70 -3.667  45.748507.9  7.41.42.2010.6 3.052100.0  20.9 -15.9 0.0 -15.',\n",
       " ' 208 . 4.39.10.60 -5.425  45.936509.0  7.42.55.2010.4 2.962100.0  20.9 -16.0 0.0 -16.',\n",
       " ' 209 . 4.39.38.50 -7.182  46.125510.2  7.44. 8.6010.2 2.812100.0  21.7 -16.1 0.0 -16.',\n",
       " ' 210 . 4.40. 6.40 -8.939  46.317511.4  7.45.22.50 9.9 2.722100.0  21.7 -16.2 0.0 -16.',\n",
       " ' 211 . 4.40. 6.40 -8.939  46.317511.4  7.45.22.50 9.9 2.722100.0  21.7  88.888.8  88.']"
      ]
     },
     "execution_count": 25,
     "metadata": {},
     "output_type": "execute_result"
    }
   ],
   "source": [
    "[\"%4d %s\" % (i, l[:80]) for i, l in enumerate(list(chunkstring(section1, 328)))]"
   ]
  },
  {
   "cell_type": "markdown",
   "metadata": {},
   "source": [
    "# Now older random poking around...."
   ]
  },
  {
   "cell_type": "code",
   "execution_count": 26,
   "metadata": {
    "collapsed": true
   },
   "outputs": [],
   "source": [
    "gap = '. 0. 0. 0.00  0.000   0.000  0.0  0. 0. 0.00 0.0 0.00   0.0   0.0   0.0 0.0   0.0 0.0   0.0 0.00   0.   0.   0.  0.00  0.00  0.00                       00\\x00s  25                                                                                                                                                            00\\x00s    2.2  -71.4                                                                                                                                                  00\\x00s     2   212                                                                                                                                                    00\\x00s '"
   ]
  },
  {
   "cell_type": "code",
   "execution_count": 27,
   "metadata": {
    "collapsed": false
   },
   "outputs": [
    {
     "data": {
      "text/plain": [
       "649"
      ]
     },
     "execution_count": 27,
     "metadata": {},
     "output_type": "execute_result"
    }
   ],
   "source": [
    "len(gap)"
   ]
  },
  {
   "cell_type": "code",
   "execution_count": 28,
   "metadata": {
    "collapsed": false
   },
   "outputs": [],
   "source": [
    "\n",
    "offset = headerLength + M * sOneLength + 677\n",
    "sTwoLength = 10 * 3 * 5\n",
    "section2 = d2129[offset:offset+(M * sTwoLength)]\n"
   ]
  },
  {
   "cell_type": "code",
   "execution_count": 29,
   "metadata": {
    "collapsed": false
   },
   "outputs": [
    {
     "name": "stdout",
     "output_type": "stream",
     "text": [
      " -9.3 -11.5 -16.8 \n",
      " -9.5 -11.6 -16.8 \n",
      " -9.5 -11.7 -16.9 \n",
      " -9.5 -11.7 -17.0 \n",
      " -9.6 -11.8 -17.0 \n",
      " -9.7 -11.8 -17.1 \n",
      " -9.9 -11.9 -17.1 \n",
      " -9.9 -11.9 -17.2 \n",
      " -9.9 -12.0 -17.2 \n",
      "            00\u0000s-\n"
     ]
    }
   ],
   "source": [
    "groupOf10(section2, sTwoLength)"
   ]
  },
  {
   "cell_type": "code",
   "execution_count": 30,
   "metadata": {
    "collapsed": false
   },
   "outputs": [
    {
     "name": "stdout",
     "output_type": "stream",
     "text": [
      "10.0- 12.0- 17.2- \n",
      "10.1- 12.1- 17.3- \n",
      "10.1- 12.1- 17.3- \n",
      "10.2- 12.1- 17.3- \n",
      "10.3- 12.1- 17.4- \n",
      "10.2- 12.1- 17.4- \n",
      "10.2- 12.2- 17.4- \n",
      "10.2- 12.2- 17.4- \n",
      "10.1- 12.1- 17.4- \n",
      "10.1- 12.2- 17.4 \n"
     ]
    }
   ],
   "source": [
    "groupOf10(section2[sTwoLength:], sTwoLength)"
   ]
  },
  {
   "cell_type": "code",
   "execution_count": 31,
   "metadata": {
    "collapsed": false,
    "scrolled": false
   },
   "outputs": [
    {
     "data": {
      "text/plain": [
       "164"
      ]
     },
     "execution_count": 31,
     "metadata": {},
     "output_type": "execute_result"
    },
    {
     "data": {
      "image/png": "[encoded data removed]",
      "text/plain": [
       "<matplotlib.figure.Figure at 0x7f62ac737860>"
      ]
     },
     "metadata": {},
     "output_type": "display_data"
    }
   ],
   "source": [
    "findRecordLen(data[M * sOneLength + 677:M * sOneLength + 677+sTwoLength*10])"
   ]
  },
  {
   "cell_type": "code",
   "execution_count": 32,
   "metadata": {
    "collapsed": false,
    "scrolled": false
   },
   "outputs": [
    {
     "data": {
      "text/plain": [
       "'8 -7.9-10.6-15.9 -7.9-10.7-16.0 -8.1-10.8-16.1 -8.3-11.0-16.2 -8.6-11.1-16.3 -8.6-11.1-16.4 -8.7-11.2-16.5 -8.8-11.3-16.6          00\\x00s -9.0-11.4-16.7 -9.3-11.5-16.8 -9.5-11.6-16.8 -9.5-11.7-16.9 -9.5-11.7-17.0 -9.6-11.8-17.0 -9.7-11.8-17.1 -9.9-11.9-17.1 -9.9-11.9-17.2 -9.9-12.0-17.2          00\\x00s-10.0-12.0-17.2-10.1-12.1-17.3-10.1-12.1-17.3-10.2-12.1-17.3-10.3-12.1-17.4-10.2-12.1-17.4-10.2-12.2-17.4-10.2-12.2-17.4-10.1-12.1-17.4-10.1-12.2-17.4          00\\x00s-10.1-12.1-17.4 -9.5-12.1-17.3-10.1-12.1-17.4 -9.4-12.0-17.3 -9.6-12.0-17.3 -9.9-12.1-17.3 -9.5-12.0-17.2-10.0-12.0-17.3-10.5-12.1-17.3-10.4-12.1-17.2          00\\x00s -9.8-11.9-17.1 -9.5-11.8-17.1 -9.7-11.8-17.1 -9.6-11.8-17.0 -9.5-11.7-16.9 -6.1-11.3-16.8 -6.6-11.3-16.7 -7.7-11.3-16.7 -8.2-11.3-16.6 -8.9-11.3-16.6          00\\x00s -9.1-11.3-16.5 -8.7-11.2-16.4 -8.7-11.1-16.3 -8.8-11.0-16.3 -8.5-10.9-16.2 -8.5-10.8-16.1 -9.2-10.9-16.0 -9.2-10.8-15.9 -9.0-10.7-15.8 -9.1-10.6-15.8          00\\x00s -9.0-10.5-15.7 -8.5-10.3-15.5 -8.4-10.2-15.4 -8.7-10.2-15.3 -8.7-10.1-15.3 -8.5-10.0-15.1 -8.3 -9.9-15.0 -8.3 -9.8-15.0 -8.1 -9.7-14.9 -8.1 -9.6-14.8          00\\x00s -8.0 -9.5-14.7 -7.9 -9.5-14.6 -7.8 -9.4-14.6 -7.8 -9.3-14.5 -7.7 -9.3-14.4 -7.6 -9.2-14.4 -7.6 -9.2-14.3 -7.6 -9.1-14.3 -7.5 -9.1-14.3 -7.5 -9.1-14.3          00\\x00s -7.5 -9.1-14.2 -7.4 -9.1-14.2 -7.5 -9.1-14.2 -7.5 -9.1-14.3 -7.5 -9.1-14.3 -7.5 -9.1-14.3 -7.5 -9.2-14.3 -7.5 -9.2-14.4 -7.4 -9.2-14.4 -7.4 -9.3-14.5          00\\x00s -7.2 -9.3-14.5 -7.0 -9.3-14.6 -6.8 -9.3-14.6 -6.0 -9'"
      ]
     },
     "execution_count": 32,
     "metadata": {},
     "output_type": "execute_result"
    }
   ],
   "source": [
    "data[headerLength + M * sOneLength + 677:headerLength + M * sOneLength + 677+sTwoLength*10]"
   ]
  },
  {
   "cell_type": "code",
   "execution_count": 33,
   "metadata": {
    "collapsed": true
   },
   "outputs": [],
   "source": [
    "d = np.array([float(ord(c)) for c in d2129])"
   ]
  },
  {
   "cell_type": "code",
   "execution_count": 34,
   "metadata": {
    "collapsed": false
   },
   "outputs": [],
   "source": [
    "segmentraw = d[headerLength:10000]"
   ]
  },
  {
   "cell_type": "code",
   "execution_count": 35,
   "metadata": {
    "collapsed": true
   },
   "outputs": [],
   "source": [
    "segment = segmentraw - np.mean(segmentraw)"
   ]
  },
  {
   "cell_type": "code",
   "execution_count": 36,
   "metadata": {
    "collapsed": false
   },
   "outputs": [],
   "source": [
    "ac = np.correlate(segment, segment, mode='same')"
   ]
  },
  {
   "cell_type": "code",
   "execution_count": 37,
   "metadata": {
    "collapsed": false
   },
   "outputs": [
    {
     "data": {
      "text/plain": [
       "9826"
      ]
     },
     "execution_count": 37,
     "metadata": {},
     "output_type": "execute_result"
    }
   ],
   "source": [
    "len(ac)"
   ]
  },
  {
   "cell_type": "code",
   "execution_count": 38,
   "metadata": {
    "collapsed": false
   },
   "outputs": [
    {
     "data": {
      "text/plain": [
       "9826"
      ]
     },
     "execution_count": 38,
     "metadata": {},
     "output_type": "execute_result"
    }
   ],
   "source": [
    "len(segment)"
   ]
  },
  {
   "cell_type": "code",
   "execution_count": 39,
   "metadata": {
    "collapsed": false,
    "scrolled": false
   },
   "outputs": [
    {
     "data": {
      "image/png": "[encoded data removed]",
      "text/plain": [
       "<matplotlib.figure.Figure at 0x7f62ac6bf940>"
      ]
     },
     "metadata": {},
     "output_type": "display_data"
    }
   ],
   "source": [
    "(lags, c, line, b) = plt.acorr(segment, maxlags=500)"
   ]
  },
  {
   "cell_type": "markdown",
   "metadata": {},
   "source": [
    "peak at 328"
   ]
  },
  {
   "cell_type": "code",
   "execution_count": 40,
   "metadata": {
    "collapsed": false
   },
   "outputs": [],
   "source": [
    "indexes = find_peaks_cwt(c, np.arange(1, 550))"
   ]
  },
  {
   "cell_type": "code",
   "execution_count": 41,
   "metadata": {
    "collapsed": false
   },
   "outputs": [
    {
     "data": {
      "text/plain": [
       "[159, 173, 329, 500, 671, 828, 841, 860, 863, 867]"
      ]
     },
     "execution_count": 41,
     "metadata": {},
     "output_type": "execute_result"
    }
   ],
   "source": [
    "indexes"
   ]
  },
  {
   "cell_type": "code",
   "execution_count": 42,
   "metadata": {
    "collapsed": false
   },
   "outputs": [
    {
     "data": {
      "text/plain": [
       "array([ 54166.11764706,   5834.81577088, -10615.02935789, ...,\n",
       "        34634.98710504, -10615.02935789,   5834.81577088])"
      ]
     },
     "execution_count": 42,
     "metadata": {},
     "output_type": "execute_result"
    }
   ],
   "source": [
    "ac"
   ]
  },
  {
   "cell_type": "code",
   "execution_count": 43,
   "metadata": {
    "collapsed": false
   },
   "outputs": [],
   "source": [
    "center = ac.argmax()"
   ]
  },
  {
   "cell_type": "code",
   "execution_count": 44,
   "metadata": {
    "collapsed": false
   },
   "outputs": [
    {
     "data": {
      "text/plain": [
       "array([   7057.91179464,   98418.20329019,  110062.09340166,\n",
       "         38561.95929167,   54536.94282875])"
      ]
     },
     "execution_count": 44,
     "metadata": {},
     "output_type": "execute_result"
    }
   ],
   "source": [
    "ac[center+320:center+325]"
   ]
  },
  {
   "cell_type": "code",
   "execution_count": 45,
   "metadata": {
    "collapsed": false,
    "scrolled": true
   },
   "outputs": [
    {
     "data": {
      "text/plain": [
       "-61695.80966463621"
      ]
     },
     "execution_count": 45,
     "metadata": {},
     "output_type": "execute_result"
    }
   ],
   "source": [
    "ac[322]"
   ]
  },
  {
   "cell_type": "code",
   "execution_count": 46,
   "metadata": {
    "collapsed": false
   },
   "outputs": [
    {
     "data": {
      "text/plain": [
       "327"
      ]
     },
     "execution_count": 46,
     "metadata": {},
     "output_type": "execute_result"
    }
   ],
   "source": [
    "ac[center+1:].argmax()"
   ]
  },
  {
   "cell_type": "code",
   "execution_count": 47,
   "metadata": {
    "collapsed": false
   },
   "outputs": [
    {
     "data": {
      "text/plain": [
       "[<matplotlib.lines.Line2D at 0x7f62ac72f518>]"
      ]
     },
     "execution_count": 47,
     "metadata": {},
     "output_type": "execute_result"
    },
    {
     "data": {
      "image/png": "[encoded data removed]",
      "text/plain": [
       "<matplotlib.figure.Figure at 0x7f62ac5cacc0>"
      ]
     },
     "metadata": {},
     "output_type": "display_data"
    }
   ],
   "source": [
    "plt.plot(ac)"
   ]
  },
  {
   "cell_type": "code",
   "execution_count": 48,
   "metadata": {
    "collapsed": false
   },
   "outputs": [
    {
     "data": {
      "text/plain": [
       "9826"
      ]
     },
     "execution_count": 48,
     "metadata": {},
     "output_type": "execute_result"
    }
   ],
   "source": [
    "len(segment)"
   ]
  },
  {
   "cell_type": "code",
   "execution_count": 49,
   "metadata": {
    "collapsed": true
   },
   "outputs": [],
   "source": [
    "# times out... (lags, c, line, b) = plt.acorr(d - np.mean(d), maxlags=500)"
   ]
  },
  {
   "cell_type": "code",
   "execution_count": 50,
   "metadata": {
    "collapsed": false
   },
   "outputs": [
    {
     "data": {
      "text/plain": [
       "array([ 0.00663063,  0.09246006,  0.10339904,  0.03622745,  0.05123533,\n",
       "        0.11427109,  0.03218082, -0.11386569,  0.93707748, -0.11588184])"
      ]
     },
     "execution_count": 50,
     "metadata": {},
     "output_type": "execute_result"
    }
   ],
   "source": [
    "c[500+320:500+330]"
   ]
  },
  {
   "cell_type": "code",
   "execution_count": 51,
   "metadata": {
    "collapsed": false
   },
   "outputs": [
    {
     "data": {
      "text/plain": [
       "327"
      ]
     },
     "execution_count": 51,
     "metadata": {},
     "output_type": "execute_result"
    }
   ],
   "source": [
    "c[500 + 1:].argmax()"
   ]
  },
  {
   "cell_type": "code",
   "execution_count": 52,
   "metadata": {
    "collapsed": false
   },
   "outputs": [
    {
     "data": {
      "text/plain": [
       "array([-500, -499, -498, ...,  498,  499,  500])"
      ]
     },
     "execution_count": 52,
     "metadata": {},
     "output_type": "execute_result"
    }
   ],
   "source": [
    "lags"
   ]
  },
  {
   "cell_type": "code",
   "execution_count": 53,
   "metadata": {
    "collapsed": false
   },
   "outputs": [
    {
     "data": {
      "text/plain": [
       "1001"
      ]
     },
     "execution_count": 53,
     "metadata": {},
     "output_type": "execute_result"
    }
   ],
   "source": [
    "len(c)"
   ]
  },
  {
   "cell_type": "code",
   "execution_count": 54,
   "metadata": {
    "collapsed": false
   },
   "outputs": [
    {
     "data": {
      "text/plain": [
       "0.00080294224440384282"
      ]
     },
     "execution_count": 54,
     "metadata": {},
     "output_type": "execute_result"
    }
   ],
   "source": [
    "c[10]"
   ]
  }
 ],
 "metadata": {
  "kernelspec": {
   "display_name": "Python 3",
   "language": "python",
   "name": "python3"
  },
  "language_info": {
   "codemirror_mode": {
    "name": "ipython",
    "version": 3
   },
   "file_extension": ".py",
   "mimetype": "text/x-python",
   "name": "python",
   "nbconvert_exporter": "python",
   "pygments_lexer": "ipython3",
   "version": "3.4.3"
  }
 },
 "nbformat": 4,
 "nbformat_minor": 2
}
