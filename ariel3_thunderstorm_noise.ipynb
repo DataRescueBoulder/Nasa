{
 "cells": [
  {
   "cell_type": "markdown",
   "metadata": {},
   "source": [
    "# Parse ariel3_thunderstorm-noise\n",
    "\n",
    "This is a quick Python example of parsing a tiny part of the relatively complicated Ariel3 satellite thunderstorm-noise data.\n",
    "\n",
    "* Inspired by breqm76\n",
    "* File format documentation at\n",
    "https://docs.google.com/document/d/1GioN-8mch3GeruMrqG6qVLklQRDOh1TiARfYwI7BC4k/edit#heading=h.uydog7egy1sz\n",
    "* Parsing the files at https://spdf.sci.gsfc.nasa.gov/pub/data/ariel/ariel3/langmuir_probe/plasma-frequency_electron-temperature_thunderstorm-noise/DATA2_DR002129_DR002129_20080804_091423/\n"
   ]
  },
  {
   "cell_type": "code",
   "execution_count": 1,
   "metadata": {
    "collapsed": true
   },
   "outputs": [],
   "source": [
    "def chunkstring(string, length):\n",
    "    \"Return the string, split up into fixed-width substrings of given length\"\n",
    "    return (string[0+i:length+i] for i in range(0, len(string), length))\n",
    "\n",
    "def groupOf10(data, offset):\n",
    "    \"print the data as 10 sets of three 5-character numbers\"    \n",
    "    segment = data[offset:offset+10*3*5]\n",
    "    print('\\n'.join(chunkstring(' '.join(chunkstring(segment[:30*5],5)), 18)))"
   ]
  },
  {
   "cell_type": "code",
   "execution_count": 2,
   "metadata": {
    "collapsed": false
   },
   "outputs": [],
   "source": [
    "# File is encoded as EBCDIC (codec cp500)\n",
    "with open('dr002129_f00001.phys.1', 'rt', encoding='cp500') as ariel3_thunderstorm_noise:\n",
    "    d2129 = ariel3_thunderstorm_noise.read()"
   ]
  },
  {
   "cell_type": "code",
   "execution_count": 3,
   "metadata": {
    "collapsed": false
   },
   "outputs": [
    {
     "name": "stdout",
     "output_type": "stream",
     "text": [
      " -6.1  -9.0 -14.3 \n",
      " -6.2  -9.1 -14.4 \n",
      " -6.5  -9.1 -14.4 \n",
      " -6.8  -9.2 -14.5 \n",
      " -7.0  -9.3 -14.6 \n",
      " -7.2  -9.4 -14.7 \n",
      " -7.4  -9.5 -14.8 \n",
      " -7.6  -9.7 -14.9 \n",
      " -7.8  -9.8 -15.0 \n",
      " -8.0  -9.9 -15.1\n"
     ]
    }
   ],
   "source": [
    "groupOf10(d2129, 0x11F02)"
   ]
  },
  {
   "cell_type": "code",
   "execution_count": 4,
   "metadata": {
    "collapsed": false
   },
   "outputs": [
    {
     "name": "stdout",
     "output_type": "stream",
     "text": [
      " -8.1 -10.0 -15.2 \n",
      " -8.2 -10.1 -15.3 \n",
      " -8.3 -10.2 -15.4 \n",
      " -8.4 -10.3 -15.5 \n",
      " -8.4 -10.4 -15.6 \n",
      " -8.5 -10.5 -15.7 \n",
      " -8.5 -10.6 -15.8 \n",
      " -8.6 -10.7 -15.9 \n",
      " -8.8 -10.8 -16.0 \n",
      " -9.0 -10.9 -16.1\n"
     ]
    }
   ],
   "source": [
    "groupOf10(d2129, 0x11FA6)"
   ]
  }
 ],
 "metadata": {
  "kernelspec": {
   "display_name": "Python 3",
   "language": "python",
   "name": "python3"
  },
  "language_info": {
   "codemirror_mode": {
    "name": "ipython",
    "version": 3
   },
   "file_extension": ".py",
   "mimetype": "text/x-python",
   "name": "python",
   "nbconvert_exporter": "python",
   "pygments_lexer": "ipython3",
   "version": "3.4.3"
  }
 },
 "nbformat": 4,
 "nbformat_minor": 2
}
